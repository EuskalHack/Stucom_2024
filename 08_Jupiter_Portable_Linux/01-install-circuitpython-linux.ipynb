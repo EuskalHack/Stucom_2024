{
 "cells": [
  {
   "cell_type": "code",
   "execution_count": 1,
   "id": "f1d5ad1a-6a38-4c10-b3ea-98342535d735",
   "metadata": {
    "scrolled": true
   },
   "outputs": [
    {
     "name": "stdout",
     "output_type": "stream",
     "text": [
      "Collecting https://github.com/adafruit/circuitpython_kernel/archive/master.zip\n",
      "  Downloading https://github.com/adafruit/circuitpython_kernel/archive/master.zip\n",
      "\u001b[2K     \u001b[32m|\u001b[0m \u001b[32m435.4 kB\u001b[0m \u001b[31m2.2 MB/s\u001b[0m \u001b[33m0:00:00\u001b[0mm\n",
      "\u001b[?25h  Preparing metadata (setup.py) ... \u001b[?25ldone\n",
      "\u001b[?25hRequirement already satisfied: pyserial in /home/dietpi/.config/jupyterlab-desktop/jlab_server/lib/python3.12/site-packages (from circuitpython_kernel==0.3.2) (3.5)\n",
      "Requirement already satisfied: ipython in /home/dietpi/.config/jupyterlab-desktop/jlab_server/lib/python3.12/site-packages (from circuitpython_kernel==0.3.2) (8.22.2)\n",
      "Requirement already satisfied: ipykernel in /home/dietpi/.config/jupyterlab-desktop/jlab_server/lib/python3.12/site-packages (from circuitpython_kernel==0.3.2) (6.29.3)\n",
      "Collecting pylint (from circuitpython_kernel==0.3.2)\n",
      "  Downloading pylint-3.1.0-py3-none-any.whl.metadata (12 kB)\n",
      "Requirement already satisfied: comm>=0.1.1 in /home/dietpi/.config/jupyterlab-desktop/jlab_server/lib/python3.12/site-packages (from ipykernel->circuitpython_kernel==0.3.2) (0.2.1)\n",
      "Requirement already satisfied: debugpy>=1.6.5 in /home/dietpi/.config/jupyterlab-desktop/jlab_server/lib/python3.12/site-packages (from ipykernel->circuitpython_kernel==0.3.2) (1.8.1)\n",
      "Requirement already satisfied: jupyter-client>=6.1.12 in /home/dietpi/.config/jupyterlab-desktop/jlab_server/lib/python3.12/site-packages (from ipykernel->circuitpython_kernel==0.3.2) (8.6.0)\n",
      "Requirement already satisfied: jupyter-core!=5.0.*,>=4.12 in /home/dietpi/.config/jupyterlab-desktop/jlab_server/lib/python3.12/site-packages (from ipykernel->circuitpython_kernel==0.3.2) (5.7.1)\n",
      "Requirement already satisfied: matplotlib-inline>=0.1 in /home/dietpi/.config/jupyterlab-desktop/jlab_server/lib/python3.12/site-packages (from ipykernel->circuitpython_kernel==0.3.2) (0.1.6)\n",
      "Requirement already satisfied: nest-asyncio in /home/dietpi/.config/jupyterlab-desktop/jlab_server/lib/python3.12/site-packages (from ipykernel->circuitpython_kernel==0.3.2) (1.6.0)\n",
      "Requirement already satisfied: packaging in /home/dietpi/.config/jupyterlab-desktop/jlab_server/lib/python3.12/site-packages (from ipykernel->circuitpython_kernel==0.3.2) (23.2)\n",
      "Requirement already satisfied: psutil in /home/dietpi/.config/jupyterlab-desktop/jlab_server/lib/python3.12/site-packages (from ipykernel->circuitpython_kernel==0.3.2) (5.9.8)\n",
      "Requirement already satisfied: pyzmq>=24 in /home/dietpi/.config/jupyterlab-desktop/jlab_server/lib/python3.12/site-packages (from ipykernel->circuitpython_kernel==0.3.2) (25.1.2)\n",
      "Requirement already satisfied: tornado>=6.1 in /home/dietpi/.config/jupyterlab-desktop/jlab_server/lib/python3.12/site-packages (from ipykernel->circuitpython_kernel==0.3.2) (6.4)\n",
      "Requirement already satisfied: traitlets>=5.4.0 in /home/dietpi/.config/jupyterlab-desktop/jlab_server/lib/python3.12/site-packages (from ipykernel->circuitpython_kernel==0.3.2) (5.14.1)\n",
      "Requirement already satisfied: decorator in /home/dietpi/.config/jupyterlab-desktop/jlab_server/lib/python3.12/site-packages (from ipython->circuitpython_kernel==0.3.2) (5.1.1)\n",
      "Requirement already satisfied: jedi>=0.16 in /home/dietpi/.config/jupyterlab-desktop/jlab_server/lib/python3.12/site-packages (from ipython->circuitpython_kernel==0.3.2) (0.19.1)\n",
      "Requirement already satisfied: prompt-toolkit<3.1.0,>=3.0.41 in /home/dietpi/.config/jupyterlab-desktop/jlab_server/lib/python3.12/site-packages (from ipython->circuitpython_kernel==0.3.2) (3.0.42)\n",
      "Requirement already satisfied: pygments>=2.4.0 in /home/dietpi/.config/jupyterlab-desktop/jlab_server/lib/python3.12/site-packages (from ipython->circuitpython_kernel==0.3.2) (2.17.2)\n",
      "Requirement already satisfied: stack-data in /home/dietpi/.config/jupyterlab-desktop/jlab_server/lib/python3.12/site-packages (from ipython->circuitpython_kernel==0.3.2) (0.6.2)\n",
      "Requirement already satisfied: pexpect>4.3 in /home/dietpi/.config/jupyterlab-desktop/jlab_server/lib/python3.12/site-packages (from ipython->circuitpython_kernel==0.3.2) (4.9.0)\n",
      "Requirement already satisfied: platformdirs>=2.2.0 in /home/dietpi/.config/jupyterlab-desktop/jlab_server/lib/python3.12/site-packages (from pylint->circuitpython_kernel==0.3.2) (4.2.0)\n",
      "Collecting astroid<=3.2.0-dev0,>=3.1.0 (from pylint->circuitpython_kernel==0.3.2)\n",
      "  Downloading astroid-3.1.0-py3-none-any.whl.metadata (4.5 kB)\n",
      "Collecting isort!=5.13.0,<6,>=4.2.5 (from pylint->circuitpython_kernel==0.3.2)\n",
      "  Downloading isort-5.13.2-py3-none-any.whl.metadata (12 kB)\n",
      "Collecting mccabe<0.8,>=0.6 (from pylint->circuitpython_kernel==0.3.2)\n",
      "  Downloading mccabe-0.7.0-py2.py3-none-any.whl.metadata (5.0 kB)\n",
      "Collecting tomlkit>=0.10.1 (from pylint->circuitpython_kernel==0.3.2)\n",
      "  Downloading tomlkit-0.12.4-py3-none-any.whl.metadata (2.7 kB)\n",
      "Collecting dill>=0.3.6 (from pylint->circuitpython_kernel==0.3.2)\n",
      "  Downloading dill-0.3.8-py3-none-any.whl.metadata (10 kB)\n",
      "Requirement already satisfied: parso<0.9.0,>=0.8.3 in /home/dietpi/.config/jupyterlab-desktop/jlab_server/lib/python3.12/site-packages (from jedi>=0.16->ipython->circuitpython_kernel==0.3.2) (0.8.3)\n",
      "Requirement already satisfied: python-dateutil>=2.8.2 in /home/dietpi/.config/jupyterlab-desktop/jlab_server/lib/python3.12/site-packages (from jupyter-client>=6.1.12->ipykernel->circuitpython_kernel==0.3.2) (2.9.0)\n",
      "Requirement already satisfied: ptyprocess>=0.5 in /home/dietpi/.config/jupyterlab-desktop/jlab_server/lib/python3.12/site-packages (from pexpect>4.3->ipython->circuitpython_kernel==0.3.2) (0.7.0)\n",
      "Requirement already satisfied: wcwidth in /home/dietpi/.config/jupyterlab-desktop/jlab_server/lib/python3.12/site-packages (from prompt-toolkit<3.1.0,>=3.0.41->ipython->circuitpython_kernel==0.3.2) (0.2.13)\n",
      "Requirement already satisfied: executing>=1.2.0 in /home/dietpi/.config/jupyterlab-desktop/jlab_server/lib/python3.12/site-packages (from stack-data->ipython->circuitpython_kernel==0.3.2) (2.0.1)\n",
      "Requirement already satisfied: asttokens>=2.1.0 in /home/dietpi/.config/jupyterlab-desktop/jlab_server/lib/python3.12/site-packages (from stack-data->ipython->circuitpython_kernel==0.3.2) (2.4.1)\n",
      "Requirement already satisfied: pure-eval in /home/dietpi/.config/jupyterlab-desktop/jlab_server/lib/python3.12/site-packages (from stack-data->ipython->circuitpython_kernel==0.3.2) (0.2.2)\n",
      "Requirement already satisfied: six>=1.12.0 in /home/dietpi/.config/jupyterlab-desktop/jlab_server/lib/python3.12/site-packages (from asttokens>=2.1.0->stack-data->ipython->circuitpython_kernel==0.3.2) (1.16.0)\n",
      "Downloading pylint-3.1.0-py3-none-any.whl (515 kB)\n",
      "\u001b[2K   \u001b[90m━━━━━━━━━━━━━━━━━━━━━━━━━━━━━━━━━━━━━━━━\u001b[0m \u001b[32m515.6/515.6 kB\u001b[0m \u001b[31m2.1 MB/s\u001b[0m eta \u001b[36m0:00:00\u001b[0ma \u001b[36m0:00:01\u001b[0m\n",
      "\u001b[?25hDownloading astroid-3.1.0-py3-none-any.whl (275 kB)\n",
      "\u001b[2K   \u001b[90m━━━━━━━━━━━━━━━━━━━━━━━━━━━━━━━━━━━━━━━━\u001b[0m \u001b[32m275.6/275.6 kB\u001b[0m \u001b[31m3.3 MB/s\u001b[0m eta \u001b[36m0:00:00\u001b[0ma \u001b[36m0:00:01\u001b[0m\n",
      "\u001b[?25hDownloading dill-0.3.8-py3-none-any.whl (116 kB)\n",
      "\u001b[2K   \u001b[90m━━━━━━━━━━━━━━━━━━━━━━━━━━━━━━━━━━━━━━━━\u001b[0m \u001b[32m116.3/116.3 kB\u001b[0m \u001b[31m4.5 MB/s\u001b[0m eta \u001b[36m0:00:00\u001b[0m\n",
      "\u001b[?25hDownloading isort-5.13.2-py3-none-any.whl (92 kB)\n",
      "\u001b[2K   \u001b[90m━━━━━━━━━━━━━━━━━━━━━━━━━━━━━━━━━━━━━━━━\u001b[0m \u001b[32m92.3/92.3 kB\u001b[0m \u001b[31m6.7 MB/s\u001b[0m eta \u001b[36m0:00:00\u001b[0m\n",
      "\u001b[?25hDownloading mccabe-0.7.0-py2.py3-none-any.whl (7.3 kB)\n",
      "Downloading tomlkit-0.12.4-py3-none-any.whl (37 kB)\n",
      "Building wheels for collected packages: circuitpython_kernel\n",
      "  Building wheel for circuitpython_kernel (setup.py) ... \u001b[?25ldone\n",
      "\u001b[?25h  Created wheel for circuitpython_kernel: filename=circuitpython_kernel-0.3.2-py2.py3-none-any.whl size=10556 sha256=dd60ba6905cb79dab54a1fa090ad5ae7a184439b06b5540c75db8070443c7873\n",
      "  Stored in directory: /tmp/pip-ephem-wheel-cache-05hj_1nm/wheels/0f/e8/e9/1c0cc30420037b695f8c39f20a29c31ffdbaed9d4a614a7734\n",
      "Successfully built circuitpython_kernel\n",
      "Installing collected packages: tomlkit, mccabe, isort, dill, astroid, pylint, circuitpython_kernel\n",
      "Successfully installed astroid-3.1.0 circuitpython_kernel-0.3.2 dill-0.3.8 isort-5.13.2 mccabe-0.7.0 pylint-3.1.0 tomlkit-0.12.4\n"
     ]
    }
   ],
   "source": [
    "#1) Instalo ciruitpython\n",
    "!pip install \"https://github.com/adafruit/circuitpython_kernel/archive/master.zip\""
   ]
  },
  {
   "cell_type": "code",
   "execution_count": 2,
   "id": "8bd61d4a-3b80-4a3a-8556-255f8eb36b5f",
   "metadata": {},
   "outputs": [
    {
     "name": "stdout",
     "output_type": "stream",
     "text": [
      "Installing CircuitPython kernelspec\n",
      "/home/dietpi/.config/jupyterlab-desktop/jlab_server/lib/python3.12/site-packages/circuitpython_kernel/install.py:28: DeprecationWarning: replace is ignored. Installing a kernelspec always replaces an existing installation\n",
      "  KernelSpecManager().install_kernel_spec(\n",
      "Completed kernel installation.\n"
     ]
    }
   ],
   "source": [
    "#2) Activo Kernel\n",
    "!python -m circuitpython_kernel.install"
   ]
  },
  {
   "cell_type": "code",
   "execution_count": 3,
   "id": "62334e5f-ec54-49e5-8481-cbf5d9f6a0d3",
   "metadata": {},
   "outputs": [
    {
     "name": "stdout",
     "output_type": "stream",
     "text": [
      "Available kernels:\n",
      "  circuitpython    /home/dietpi/.local/share/jupyter/kernels/circuitpython\n",
      "  micropython      /home/dietpi/.local/share/jupyter/kernels/micropython\n",
      "  python3          /home/dietpi/.config/jupyterlab-desktop/jlab_server/share/jupyter/kernels/python3\n"
     ]
    }
   ],
   "source": [
    "#3) Compruebo listado de kernels\n",
    "!jupyter kernelspec list"
   ]
  },
  {
   "cell_type": "code",
   "execution_count": 4,
   "id": "07a80b7b-3599-4882-8419-fedaebc7799a",
   "metadata": {},
   "outputs": [],
   "source": [
    "#Es posible que tengas que reiniciar el entonro para que cargue el nuevo kernel"
   ]
  },
  {
   "cell_type": "code",
   "execution_count": 15,
   "id": "1d621b24-bf0e-4fbe-8d80-cfb0510f2240",
   "metadata": {},
   "outputs": [],
   "source": [
    "#Si sale error: No connection to CircuitPython VM: found no board\n",
    "#Es posible que tengas que editar board.py para poner el id de tu placa.(si no es adafruit)\n",
    "#!mousepad $(find $HOME | grep /board.py)"
   ]
  },
  {
   "cell_type": "code",
   "execution_count": 16,
   "id": "1cfd29aa-0b5a-49bd-993d-ca387fff7799",
   "metadata": {},
   "outputs": [
    {
     "name": "stdout",
     "output_type": "stream",
     "text": [
      "/home/dietpi/.config/jupyterlab-desktop/jlab_server/lib/python3.12/site-packages/circuitpython_kernel/board.py\n",
      "--------------------\n",
      "ADAFRUIT_VID = 0x239A # SAMD\n",
      "#ESP8266_VID = 0x10C4 # Huzzah ESP8266\n",
      "ESP8266_VID = 0x303a # Modificacion s3\n",
      "PICO_VID = 0x239A # PICO PI\n",
      "TEENSY_VID = 0x16C0 #PJRC Teensy 4.1\n",
      "            if port.vid == ADAFRUIT_VID or port.vid == ESP8266_VID or port.vid == PICO_VID or port.vid == TEENSY_VID:\n"
     ]
    }
   ],
   "source": [
    "#Busco Archivo board.py\n",
    "!find $HOME | grep /board.py\n",
    "print(\"--------------------\")\n",
    "!cat $(find $HOME | grep /board.py) | grep _VID"
   ]
  },
  {
   "cell_type": "code",
   "execution_count": 1,
   "id": "63d06e91-358f-46f5-983b-aaf3db5a1cce",
   "metadata": {},
   "outputs": [
    {
     "name": "stdout",
     "output_type": "stream",
     "text": [
      "/dev/ttyACM1 USB VID:PID=303A:8166 SER=C348725C7407 LOCATION=1-8:1.0 YD-ESP32-S3 - CircuitPython CDC control\n"
     ]
    }
   ],
   "source": [
    "#Obtengo informacion USB-Serie conectados\n",
    "import serial.tools.list_ports as list_ports\n",
    "for port in list_ports.comports():\n",
    "    print(port.device,port.usb_info(),port.description)"
   ]
  },
  {
   "cell_type": "markdown",
   "id": "8a6872ed-2a78-438c-b3b7-4c0d6d9d5f5d",
   "metadata": {},
   "source": [
    "<div class=\"alert alert-block alert-info\">\n",
    "<b>Si No esta el VID:</b> <span style=\"font-family:monospace;color:black\">303A </span> en boards.py<br>\n",
    "<b>No lo reconocera el kernel Circuitpython.</b>\n",
    "</div>"
   ]
  },
  {
   "cell_type": "code",
   "execution_count": 18,
   "id": "d301a06d-9c5a-4d34-a07e-afc3d370bc39",
   "metadata": {},
   "outputs": [
    {
     "name": "stdout",
     "output_type": "stream",
     "text": [
      "Usage:\n",
      "  usbreset PPPP:VVVV - reset by product and vendor id\n",
      "  usbreset BBB/DDD   - reset by bus and device number\n",
      "  usbreset \"Product\" - reset by product name\n",
      "\n",
      "Devices:\n",
      "  Number 001/002  ID 0bda:c821  Bluetooth Radio\n",
      "  Number 002/002  ID 0951:177f  DataTraveler Max\n",
      "  Number 001/007  ID 303a:8166  YD-ESP32-S3\n",
      "  Number 001/003  ID 0d8c:0014  USB Audio Device\n"
     ]
    }
   ],
   "source": [
    "#otra formas sencilla de ver los ID USB\n",
    "!usbreset"
   ]
  },
  {
   "cell_type": "code",
   "execution_count": null,
   "id": "0a041418-8e9b-4100-8148-0544cbe67c4b",
   "metadata": {},
   "outputs": [],
   "source": []
  }
 ],
 "metadata": {
  "kernelspec": {
   "display_name": "Python 3 (ipykernel)",
   "language": "python",
   "name": "python3"
  },
  "language_info": {
   "codemirror_mode": {
    "name": "ipython",
    "version": 3
   },
   "file_extension": ".py",
   "mimetype": "text/x-python",
   "name": "python",
   "nbconvert_exporter": "python",
   "pygments_lexer": "ipython3",
   "version": "3.12.2"
  }
 },
 "nbformat": 4,
 "nbformat_minor": 5
}
