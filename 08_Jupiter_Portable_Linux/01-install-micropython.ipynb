{
 "cells": [
  {
   "cell_type": "code",
   "execution_count": 1,
   "id": "502b3a60-65e2-4be8-998b-241fe546a65b",
   "metadata": {},
   "outputs": [
    {
     "name": "stdout",
     "output_type": "stream",
     "text": [
      "Collecting jupyter_micropython_kernel\n",
      "  Downloading jupyter_micropython_kernel-0.1.3.2-py3-none-any.whl.metadata (7.3 kB)\n",
      "Collecting pyserial>=3.4 (from jupyter_micropython_kernel)\n",
      "  Downloading pyserial-3.5-py2.py3-none-any.whl.metadata (1.6 kB)\n",
      "Requirement already satisfied: websocket-client>=0.44 in /home/dietpi/.config/jupyterlab-desktop/jlab_server/lib/python3.12/site-packages (from jupyter_micropython_kernel) (1.7.0)\n",
      "Downloading jupyter_micropython_kernel-0.1.3.2-py3-none-any.whl (20 kB)\n",
      "Downloading pyserial-3.5-py2.py3-none-any.whl (90 kB)\n",
      "\u001b[2K   \u001b[90m━━━━━━━━━━━━━━━━━━━━━━━━━━━━━━━━━━━━━━━━\u001b[0m \u001b[32m90.6/90.6 kB\u001b[0m \u001b[31m2.8 MB/s\u001b[0m eta \u001b[36m0:00:00\u001b[0m\n",
      "\u001b[?25hInstalling collected packages: pyserial, jupyter_micropython_kernel\n",
      "Successfully installed jupyter_micropython_kernel-0.1.3.2 pyserial-3.5\n"
     ]
    }
   ],
   "source": [
    "#1) instalo micropython\n",
    "!pip install jupyter_micropython_kernel"
   ]
  },
  {
   "cell_type": "code",
   "execution_count": 2,
   "id": "36d47df3-61b6-42b9-8e52-15965f80e1ee",
   "metadata": {},
   "outputs": [
    {
     "name": "stdout",
     "output_type": "stream",
     "text": [
      "Installing IPython kernel spec of micropython\n",
      "/home/dietpi/.config/jupyterlab-desktop/jlab_server/lib/python3.12/site-packages/jupyter_micropython_kernel/install.py:29: DeprecationWarning: replace is ignored. Installing a kernelspec always replaces an existing installation\n",
      "  k.install_kernel_spec(td, 'Micropython', user=user, replace=True, prefix=prefix)\n",
      "...into /home/dietpi/.local/share/jupyter/kernels/micropython\n"
     ]
    }
   ],
   "source": [
    "#2) activo kernel\n",
    "!python -m jupyter_micropython_kernel.install"
   ]
  },
  {
   "cell_type": "code",
   "execution_count": 3,
   "id": "5e2fe6a5-7a59-4663-8ca7-89556074fffb",
   "metadata": {},
   "outputs": [
    {
     "name": "stdout",
     "output_type": "stream",
     "text": [
      "Available kernels:\n",
      "  micropython    /home/dietpi/.local/share/jupyter/kernels/micropython\n",
      "  python3        /home/dietpi/.config/jupyterlab-desktop/jlab_server/share/jupyter/kernels/python3\n"
     ]
    }
   ],
   "source": [
    "#3) Compruebo listado de kernels\n",
    "!jupyter kernelspec list"
   ]
  },
  {
   "cell_type": "code",
   "execution_count": 4,
   "id": "74cda905-51db-4f5d-9ef2-7a9950b822fc",
   "metadata": {},
   "outputs": [],
   "source": [
    "#4) Es posible que tengas que reiniciar el entonro para que cargue el nuevo kernel"
   ]
  }
 ],
 "metadata": {
  "kernelspec": {
   "display_name": "Python 3 (ipykernel)",
   "language": "python",
   "name": "python3"
  },
  "language_info": {
   "codemirror_mode": {
    "name": "ipython",
    "version": 3
   },
   "file_extension": ".py",
   "mimetype": "text/x-python",
   "name": "python",
   "nbconvert_exporter": "python",
   "pygments_lexer": "ipython3",
   "version": "3.12.2"
  }
 },
 "nbformat": 4,
 "nbformat_minor": 5
}
