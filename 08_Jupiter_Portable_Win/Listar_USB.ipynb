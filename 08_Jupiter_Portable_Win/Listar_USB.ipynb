{
 "cells": [
  {
   "cell_type": "code",
   "execution_count": 107,
   "id": "a774d036-cf57-4bc0-b3e2-a9af13cfc7ff",
   "metadata": {},
   "outputs": [
    {
     "name": "stdout",
     "output_type": "stream",
     "text": [
      "Device: /dev/ttyACM1\n",
      "Description: YD-ESP32-S3 - CircuitPython CDC control\n",
      "Manufacturer: VCC-GND\n",
      "Serial Number: C348725C7407\n",
      "USB VID:PID=303A:8166 SER=C348725C7407 LOCATION=1-8:1.0\n",
      "---------------------------------------------------\n"
     ]
    }
   ],
   "source": [
    "#Listado puertos Seria\n",
    "import serial.tools.list_ports as list_ports\n",
    "\n",
    "# List all serial ports\n",
    "ports = list_ports.comports()\n",
    "\n",
    "# Iterate over the ports and print their information\n",
    "for port in ports:\n",
    "    print(f\"Device: {port.device}\")\n",
    "    print(f\"Description: {port.description}\")\n",
    "    print(f\"Manufacturer: {port.manufacturer}\")\n",
    "    print(f\"Serial Number: {port.serial_number}\")\n",
    "    print(port.usb_info())\n",
    "    print(\"---------------------------------------------------\")"
   ]
  },
  {
   "cell_type": "code",
   "execution_count": 2,
   "id": "60dc2413-8405-4fd0-99ec-ff706e7c1099",
   "metadata": {},
   "outputs": [
    {
     "name": "stdout",
     "output_type": "stream",
     "text": [
      "Collecting pyusb\n",
      "  Downloading pyusb-1.2.1-py3-none-any.whl.metadata (2.2 kB)\n",
      "Downloading pyusb-1.2.1-py3-none-any.whl (58 kB)\n",
      "\u001b[2K   \u001b[90m━━━━━━━━━━━━━━━━━━━━━━━━━━━━━━━━━━━━━━━━\u001b[0m \u001b[32m58.4/58.4 kB\u001b[0m \u001b[31m1.8 MB/s\u001b[0m eta \u001b[36m0:00:00\u001b[0m\n",
      "\u001b[?25hInstalling collected packages: pyusb\n",
      "Successfully installed pyusb-1.2.1\n"
     ]
    }
   ],
   "source": [
    "#Instalo\n",
    "!pip install pyusb"
   ]
  },
  {
   "cell_type": "code",
   "execution_count": 94,
   "id": "36ba6599-430f-4e4b-9635-18fe356e5c7d",
   "metadata": {},
   "outputs": [],
   "source": [
    "# Find all USB devices\n",
    "import usb.core\n",
    "devices = usb.core.find(find_all=True)"
   ]
  },
  {
   "cell_type": "code",
   "execution_count": 95,
   "id": "0074feb5-2138-4327-ab90-86b24f00b39d",
   "metadata": {},
   "outputs": [
    {
     "name": "stdout",
     "output_type": "stream",
     "text": [
      "VID: 0x951, PID: 0x177f\n",
      "VID: 0x1d6b, PID: 0x3\n",
      "VID: 0x303a, PID: 0x8166\n",
      "VID: 0xd8c, PID: 0x14\n",
      "VID: 0xbda, PID: 0xc821\n",
      "VID: 0x1d6b, PID: 0x2\n"
     ]
    }
   ],
   "source": [
    "# Iterate over the devices and print their VID\n",
    "for device in devices:\n",
    "    print(f\"VID: {hex(device.idVendor)}, PID: {hex(device.idProduct)}\")"
   ]
  },
  {
   "cell_type": "code",
   "execution_count": 55,
   "id": "7030fee7-d613-4926-9f5f-0dc592377103",
   "metadata": {},
   "outputs": [
    {
     "name": "stdout",
     "output_type": "stream",
     "text": [
      "Device: /dev/ttyACM1,YD-ESP32-S3 - CircuitPython CDC control,VCC-GND,C348725C7407\n"
     ]
    }
   ],
   "source": [
    "import serial.tools.list_ports as list_ports\n",
    "\n",
    "# List all serial ports\n",
    "ports = list_ports.comports()\n",
    "\n",
    "# Iterate over the ports and print their information\n",
    "for port in ports:\n",
    "    print(f\"Device: {port.device},{port.description},{port.manufacturer},{port.serial_number}\")"
   ]
  },
  {
   "cell_type": "code",
   "execution_count": 57,
   "id": "e5a482f5-4b0b-4e55-a3ec-bc2eb014de80",
   "metadata": {},
   "outputs": [
    {
     "name": "stdout",
     "output_type": "stream",
     "text": [
      "Collecting pyudev\n",
      "  Downloading pyudev-0.24.1-py3-none-any.whl.metadata (4.6 kB)\n",
      "Downloading pyudev-0.24.1-py3-none-any.whl (62 kB)\n",
      "\u001b[2K   \u001b[90m━━━━━━━━━━━━━━━━━━━━━━━━━━━━━━━━━━━━━━━━\u001b[0m \u001b[32m62.9/62.9 kB\u001b[0m \u001b[31m2.2 MB/s\u001b[0m eta \u001b[36m0:00:00\u001b[0m\n",
      "\u001b[?25hInstalling collected packages: pyudev\n",
      "Successfully installed pyudev-0.24.1\n"
     ]
    }
   ],
   "source": [
    "#Instalo\n",
    "!pip install pyudev"
   ]
  },
  {
   "cell_type": "code",
   "execution_count": 100,
   "id": "453f06df-7dac-450a-820e-5bc7dd2930c3",
   "metadata": {},
   "outputs": [
    {
     "name": "stdout",
     "output_type": "stream",
     "text": [
      "VID: 1d6b PID: 0002 xHCI_Host_Controller (Linux_6.1.0-20-amd64_xhci-hcd_xHCI_Host_Controller_0000:00:14.0)\n",
      "VID: 0bda PID: c821 Bluetooth_Radio (Realtek_Bluetooth_Radio_00e04c000001)\n",
      "VID: 0d8c PID: 0014 USB_Audio_Device (C-Media_Electronics_Inc._USB_Audio_Device)\n",
      "VID: 303a PID: 8166 YD-ESP32-S3 (VCC-GND_YD-ESP32-S3_C348725C7407)\n",
      "VID: 1d6b PID: 0003 xHCI_Host_Controller (Linux_6.1.0-20-amd64_xhci-hcd_xHCI_Host_Controller_0000:00:14.0)\n",
      "VID: 0951 PID: 177f DataTraveler_Max (Kingston_DataTraveler_Max_204479A6A7C051A50221)\n"
     ]
    }
   ],
   "source": [
    "import pyudev\n",
    "\n",
    "context = pyudev.Context()\n",
    "devices = context.list_devices(subsystem='usb')\n",
    "\n",
    "# Iterate over the devices and print their information\n",
    "for device in devices:\n",
    "    if device.get('ID_VENDOR_ID') is not None:\n",
    "        print(f\"VID: {device.get('ID_VENDOR_ID')} PID: {device.get('ID_MODEL_ID')} \", end=\"\")\n",
    "        print(f\"{device.get('ID_MODEL')} ({device.get('ID_SERIAL')})\")"
   ]
  },
  {
   "cell_type": "code",
   "execution_count": null,
   "id": "360bcc87-2655-4e7e-ae49-4d85603378d4",
   "metadata": {},
   "outputs": [],
   "source": []
  }
 ],
 "metadata": {
  "kernelspec": {
   "display_name": "Python 3 (ipykernel)",
   "language": "python",
   "name": "python3"
  },
  "language_info": {
   "codemirror_mode": {
    "name": "ipython",
    "version": 3
   },
   "file_extension": ".py",
   "mimetype": "text/x-python",
   "name": "python",
   "nbconvert_exporter": "python",
   "pygments_lexer": "ipython3",
   "version": "3.12.2"
  }
 },
 "nbformat": 4,
 "nbformat_minor": 5
}
