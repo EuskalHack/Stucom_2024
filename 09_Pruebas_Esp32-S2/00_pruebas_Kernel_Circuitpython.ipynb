{
 "cells": [
  {
   "cell_type": "code",
   "execution_count": 1,
   "id": "55a52b37-4ac4-4362-8b3f-c3ce69468452",
   "metadata": {},
   "outputs": [
    {
     "name": "stdout",
     "output_type": "stream",
     "text": [
      "Welcome to Adafruit CircuitPython 9.0.3!\n",
      "\n",
      "Visit circuitpython.org for more information.\n",
      "\n",
      "To list built-in modules type `help(\"modules\")`.\n"
     ]
    }
   ],
   "source": [
    "# si la conexion con la placa es exitosa \n",
    "# help() devolvera la version de circuitpython instalada en la placa\n",
    "help()"
   ]
  },
  {
   "cell_type": "code",
   "execution_count": 2,
   "id": "5792cfb1-307e-4908-addc-5f19ce7c775c",
   "metadata": {},
   "outputs": [],
   "source": [
    "# Si Falla podemos habilitar la consola de depuracion\n",
    "# Boton derecho => show log console => poner Log Level a Debug\n",
    "# y despues reiniciamos el kernel para ver que ha ocurrido"
   ]
  },
  {
   "cell_type": "code",
   "execution_count": 3,
   "id": "65b308a4-5ac6-4e7a-b1a3-c7c3f8d9d23e",
   "metadata": {
    "scrolled": true
   },
   "outputs": [
    {
     "name": "stdout",
     "output_type": "stream",
     "text": [
      "__future__        countio           memorymap         struct\n",
      "__main__          digitalio         microcontroller   supervisor\n",
      "_asyncio          displayio         micropython       synthio\n",
      "_pixelmap         dualbank          msgpack           sys\n",
      "adafruit_bus_device                 epaperdisplay     neopixel          terminalio\n",
      "adafruit_bus_device.i2c_device      errno             neopixel_write    time\n",
      "adafruit_bus_device.spi_device      espcamera         nvm               touchio\n",
      "adafruit_pixelbuf espidf            onewireio         traceback\n",
      "aesio             espnow            os                ulab\n",
      "alarm             espulp            paralleldisplay   ulab.numpy\n",
      "analogbufio       fontio            paralleldisplaybus                  ulab.numpy.fft\n",
      "analogio          fourwire          ps2io             ulab.numpy.linalg\n",
      "array             framebufferio     pulseio           ulab.scipy\n",
      "atexit            frequencyio       pwmio             ulab.scipy.linalg\n",
      "audiobusio        gc                qrio              ulab.scipy.optimize\n",
      "audiocore         getpass           rainbowio         ulab.scipy.signal\n",
      "audiomixer        gifio             random            ulab.scipy.special\n",
      "binascii          hashlib           re                ulab.utils\n",
      "bitbangio         i2cdisplaybus     rgbmatrix         usb_cdc\n",
      "bitmaptools       io                rotaryio          usb_hid\n",
      "board             ipaddress         rtc               usb_midi\n",
      "builtins          jpegio            sdcardio          vectorio\n",
      "busdisplay        json              select            warnings\n",
      "busio             keypad            sharpdisplay      watchdog\n",
      "canio             locale            socketpool        wifi\n",
      "codeop            math              ssl               zlib\n",
      "collections       mdns              storage\n",
      "Plus any modules on the filesystem\n"
     ]
    }
   ],
   "source": [
    "#veamos con que librerias viene\n",
    "help(\"modules\")"
   ]
  },
  {
   "cell_type": "code",
   "execution_count": 4,
   "id": "6aa07241-dbcf-4661-b288-5b40215e32d4",
   "metadata": {},
   "outputs": [
    {
     "name": "stdout",
     "output_type": "stream",
     "text": [
      "object <module 'sys'> is of type module\n",
      "  __name__ -- sys\n",
      "  argv -- []\n",
      "  version -- 3.4.0; CircuitPython 9.0.3 on 2024-04-04\n",
      "  version_info -- (3, 4, 0)\n",
      "  implementation -- (name='circuitpython', version=(9, 0, 3), _machine='S2Mini with ESP32S2-S2FN4R2', _mpy=262)\n",
      "  platform -- Espressif\n",
      "  byteorder -- little\n",
      "  maxsize -- 2147483647\n",
      "  exit -- <function>\n",
      "  stdin -- <io.FileIO 0>\n",
      "  stdout -- <io.FileIO 1>\n",
      "  stderr -- <io.FileIO 2>\n",
      "  modules -- {}\n",
      "  print_exception -- <function>\n"
     ]
    }
   ],
   "source": [
    "import sys ; help(sys)"
   ]
  },
  {
   "cell_type": "code",
   "execution_count": 5,
   "id": "db53e5db-5e26-40f5-9b81-ebad0c5deb32",
   "metadata": {},
   "outputs": [
    {
     "name": "stdout",
     "output_type": "stream",
     "text": [
      "S2Mini with ESP32S2-S2FN4R2 9.0.3 on 2024-04-04\n",
      "Espressif 3.4.0; CircuitPython 9.0.3 on 2024-04-04 (name='circuitpython', version=(9, 0, 3), _machine='S2Mini with ESP32S2-S2FN4R2', _mpy=262)\n"
     ]
    }
   ],
   "source": [
    "# Informacion de la placa\n",
    "import os ,sys  #help(os.uname())\n",
    "print(os.uname().machine, os.uname().version) \n",
    "print(sys.platform, sys.version, sys.implementation) "
   ]
  },
  {
   "cell_type": "code",
   "execution_count": 6,
   "id": "716fb6c1-4e94-42a0-bd5e-d5ad9c383561",
   "metadata": {},
   "outputs": [
    {
     "name": "stdout",
     "output_type": "stream",
     "text": [
      "['.fseventsd', '.metadata_never_index', '.Trashes', '.Trash-1000', 'sd', 'settings.toml', 'code.py', 'lib', 'boot_out.txt', 'boot.py']\n"
     ]
    }
   ],
   "source": [
    "# Listado de Archivos\n",
    "import os ; print(os.listdir())"
   ]
  },
  {
   "cell_type": "code",
   "execution_count": 7,
   "id": "6815cb41-6e87-4e84-ae0f-d3379fa4eeb4",
   "metadata": {},
   "outputs": [
    {
     "name": "stdout",
     "output_type": "stream",
     "text": [
      "Adafruit CircuitPython 9.0.3 on 2024-04-04; S2Mini with ESP32S2-S2FN4R2\n",
      "Board ID:lolin_s2_mini\n",
      "UID:085699F4D7E5\n",
      "\u001b[2K\u001b[0Gboot.py output:\n",
      "fin boot.py\n",
      "\n"
     ]
    }
   ],
   "source": [
    "# Muestro contenido de un archivo\n",
    "print(open('boot_out.txt', 'r').read())"
   ]
  },
  {
   "cell_type": "code",
   "execution_count": 8,
   "id": "32278d46-3e05-4c65-a731-560ed62b2f1c",
   "metadata": {},
   "outputs": [
    {
     "name": "stdout",
     "output_type": "stream",
     "text": [
      "SSID = \"TestWiFi\"\n",
      "WPWD = \"password\"\n",
      "bot_tk = \"bot1913378131:AAHEw8wlCwBvpzplJ2z5heIDp6aIhCm2bH0\"\n",
      "\n"
     ]
    }
   ],
   "source": [
    "#Leo Fichero configuracion\n",
    "print(open('settings.toml', 'r').read())\n",
    "# En este fichero se pueden configurar variables permanentes\n",
    "# Y los parametros de conexion a wifi"
   ]
  },
  {
   "cell_type": "code",
   "execution_count": 9,
   "id": "a659c4a0-aab7-4993-bba0-b706e38e3545",
   "metadata": {},
   "outputs": [],
   "source": [
    "## Una forma de Generar settings.toml (si no se puede desde el sistema de archivos)'''\n",
    "#import storage\n",
    "#with open('settings.toml', 'w') as file:\n",
    "#    file.write('SSID   = \"XXX\"\\n')\n",
    "#    file.write('WPWD   = \"YYY\"\\n')\n",
    "#    file.write('bot_tk = \"botXXXX:YYYY\"\\n')\n",
    "#''' #si esta acivo da error de Read-only filesystem"
   ]
  },
  {
   "cell_type": "code",
   "execution_count": 10,
   "id": "9899a0f6-fecc-42c3-b9e2-67432731dd0b",
   "metadata": {},
   "outputs": [
    {
     "name": "stdout",
     "output_type": "stream",
     "text": [
      "import usb_cdc, usb_hid, storage, supervisor\n",
      "\n",
      "storage.disable_usb_drive() #desabilito storaje para liberar endpoints\n",
      "\n",
      "supervisor.set_usb_identification(\"Stucom_2024\",\"Hacking_USB\",0x2E8A,0x0005)\n",
      "\n",
      "#Ojo si habilitas un segundo CDC te comes todos los endpoints\n",
      "#usb_cdc.enable(console=True, data=True)    # Enable console and data\n",
      "\n",
      "#usb_hid.enable((usb_hid.Device.KEYBOARD,usb_hid.Device.MOUSE,USB_hid.Device.CONSUMER_CONTROL))\n",
      "usb_hid.enable((usb_hid.Device.KEYBOARD,usb_hid.Device.MOUSE))\n",
      "#usb_hid.enable((usb_hid.Device.KEYBOARD,))\n",
      "\n",
      "print(\"fin boot.py\")\n",
      "\n"
     ]
    }
   ],
   "source": [
    "#Muestra Archivo boot.py\n",
    "print(open('boot.py','r').read())"
   ]
  },
  {
   "cell_type": "code",
   "execution_count": 11,
   "id": "0f218b44-84ac-4fa3-a342-4ec8ca18d8fa",
   "metadata": {},
   "outputs": [
    {
     "name": "stdout",
     "output_type": "stream",
     "text": [
      "['adafruit_hid', 'adafruit_requests.mpy', 'adafruit_connection_manager.mpy']\n"
     ]
    }
   ],
   "source": [
    "#Muestra librerias cargadas\n",
    "import os ; print(os.listdir(\"lib\"))"
   ]
  },
  {
   "cell_type": "code",
   "execution_count": 12,
   "id": "7c98ac69-4ecc-49e3-9c80-13b241ed8b29",
   "metadata": {},
   "outputs": [
    {
     "name": "stdout",
     "output_type": "stream",
     "text": [
      "Memoria Libre: 2071584\n"
     ]
    }
   ],
   "source": [
    "# 2Mb de memoria libre!!! \n",
    "import gc ; print(\"Memoria Libre:\",gc.mem_free())"
   ]
  },
  {
   "cell_type": "markdown",
   "id": "05802a15-a751-458e-b61d-414adff69899",
   "metadata": {},
   "source": [
    "<br><br><br><hr>\n",
    "### Conexion wifi\n",
    "<div class=\"alert alert-block alert-info\">\n",
    "<b>Nota:</b> Tambien se puede sonfigurar desde: <b>settings.toml</b><br>\n",
    "Si el wifi esta configurado en el archivo settings.toml<br>\n",
    "El dispositivo se conectara automaticamente.\n",
    "</div>\n",
    "\n",
    "\n",
    "https://gist.github.com/todbot/7534740779cd64a2ce636d14ecb6e5af     \n",
    "https://learn.adafruit.com/pico-w-wifi-with-circuitpython/pico-w-basic-wifi-test  \n"
   ]
  },
  {
   "cell_type": "code",
   "execution_count": 13,
   "id": "df00b7e7-4054-4cc8-8c16-3414ab53551e",
   "metadata": {},
   "outputs": [
    {
     "name": "stdout",
     "output_type": "stream",
     "text": [
      "object <module 'wifi'> is of type module\n",
      "  __name__ -- wifi\n",
      "  __init__ -- <function>\n",
      "  AuthMode -- <class 'AuthMode'>\n",
      "  Monitor -- <class 'Monitor'>\n",
      "  Network -- <class 'Network'>\n",
      "  Packet -- <class 'Packet'>\n",
      "  Radio -- <class 'Radio'>\n",
      "  Station -- <class 'WifiRadioStation'>\n",
      "  radio -- <Radio>\n"
     ]
    }
   ],
   "source": [
    "import wifi\n",
    "help(wifi)"
   ]
  },
  {
   "cell_type": "code",
   "execution_count": 14,
   "id": "916ef05c-db1a-476b-9312-c8143b4a01ba",
   "metadata": {},
   "outputs": [
    {
     "name": "stdout",
     "output_type": "stream",
     "text": [
      "<Network> TestWiFi 6\n",
      "<Network> FRU705_R0J05_Guest 6\n",
      "<Network> FRU705_R0J05 6\n",
      "<Network> MOVISTAR_F690 6\n",
      "<Network> Livebox6-1770 6\n",
      "<Network> Livebox6-9A61 6\n",
      "<Network> MOVISTAR_0607 6\n",
      "<Network> Livebox6-C71B_EXT 6\n",
      "<Network> FE2C 1\n",
      "<Network> Morpheus 1\n",
      "<Network> MOVISTAR_BABB 1\n",
      "<Network> sercommBB2417 1\n",
      "<Network> MOVISTAR_F8E9 1\n",
      "<Network> WIFI_MESH_A50C 1\n",
      "<Network> MiFibra-E364 1\n",
      "<Network> CASALOPEZ 1\n",
      "<Network> MiFibra-E9E2 1\n",
      "<Network> DIRECT-Gr[TV]UE40ES6100 11\n",
      "<Network> 309C 11\n",
      "<Network> Fegaaca51 11\n",
      "<Network> TYAII 11\n",
      "<Network> 0554 11\n",
      "<Network> FE94 11\n",
      "<Network> MOVISTAR-WIFI6-2040 3\n",
      "<Network> Estonet 9\n",
      "<Network> WiFi-W0019 9\n",
      "<Network> DIGIFIBRA-bubS 2\n",
      "<Network> vodafone32C0 4\n",
      "<Network> MIWIFI_rDQb 4\n",
      "<Network> MIWIFI_XpAT 5\n",
      "<Network> vodafoneBA2120_EXT 10\n"
     ]
    }
   ],
   "source": [
    "#escaneo Redes\n",
    "import wifi\n",
    "for network in wifi.radio.start_scanning_networks():\n",
    "    print(network, network.ssid, network.channel)\n",
    "wifi.radio.stop_scanning_networks()"
   ]
  },
  {
   "cell_type": "raw",
   "id": "61575858-4983-456c-9632-9882439d68ab",
   "metadata": {},
   "source": [
    "<Network> MOVISTAR_AAAA 6\n",
    "<Network> MOVISTAR_BBBB 4\n",
    "<Network> MOVISTAR_CCCC 1\n",
    "<Network> MOVISTAR_DDDD 1\n",
    "<Network> vodafoneEEEEE 8\n",
    "<Network> DIGIFIBRA-bubS 8"
   ]
  },
  {
   "cell_type": "code",
   "execution_count": 15,
   "id": "3408be34-d341-4276-b590-de5f4619475d",
   "metadata": {},
   "outputs": [
    {
     "name": "stdout",
     "output_type": "stream",
     "text": [
      "wifi aux None\n"
     ]
    }
   ],
   "source": [
    "# Conexion Manual si has configurado settings.toml no hace falta\n",
    "if not  wifi.radio.connected:\n",
    "    #print(\"wifi aux\",wifi.radio.connect(\"ssid\",\"pwd\"))\n",
    "    print(\"wifi aux\",wifi.radio.connect(\"TestWiFi\",\"password\"))\n",
    "# Problema Los datos del WIFI se quedan hardcodeados."
   ]
  },
  {
   "cell_type": "code",
   "execution_count": 16,
   "id": "09030b53-81fc-46a6-82f5-6f91a824951b",
   "metadata": {},
   "outputs": [
    {
     "name": "stdout",
     "output_type": "stream",
     "text": [
      "MAC:\t b'\\x80e\\x99O}^'\n",
      "HOST:\t LS2Mini\n",
      "IP:\t 192.168.43.240\n",
      "GW:\t 192.168.43.1\n",
      "DNS:\t 192.168.43.1\n",
      "Con:\t True\n"
     ]
    }
   ],
   "source": [
    "# Informacion de la conexion wifi\n",
    "print(\"MAC:\\t\", wifi.radio.mac_address)\n",
    "print(\"HOST:\\t\", wifi.radio.hostname)\n",
    "print(\"IP:\\t\", wifi.radio.ipv4_address)\n",
    "print(\"GW:\\t\", wifi.radio.ipv4_gateway)\n",
    "print(\"DNS:\\t\", wifi.radio.ipv4_dns)\n",
    "print(\"Con:\\t\", wifi.radio.connected)"
   ]
  },
  {
   "cell_type": "code",
   "execution_count": 17,
   "id": "51d6ed12-0b3b-4080-9e88-6363510aa5b2",
   "metadata": {},
   "outputs": [
    {
     "name": "stdout",
     "output_type": "stream",
     "text": [
      "ping:\t None\n"
     ]
    }
   ],
   "source": [
    "#Ping a la pasarela (util para testear conexion)\n",
    "print(\"ping:\\t\", wifi.radio.ping(wifi.radio.ipv4_gateway))"
   ]
  },
  {
   "cell_type": "code",
   "execution_count": 18,
   "id": "0a41cde8-e777-4da5-a55d-50979ee00a16",
   "metadata": {},
   "outputs": [],
   "source": [
    "# Mas info:\n",
    "#https://learn.adafruit.com/circuitpython-with-esp32-quick-start/setting-up-web-workflow\n",
    "#https://learn.adafruit.com/circuitpython-with-esp32-quick-start/connecting-via-web-browser\n",
    "#si has configurado settings.toml no hace falta configurar webrepl\n",
    "#import webrepl; webrepl.start(password=\"pass\")"
   ]
  },
  {
   "cell_type": "markdown",
   "id": "2a848381-a770-4caf-8441-d1972888f8e4",
   "metadata": {},
   "source": [
    "<br><br><br><hr>\n",
    "### Request\n",
    "https://docs.circuitpython.org/projects/requests/en/latest/\n",
    "\n",
    "- Librerias: https://github.com/adafruit/Adafruit_CircuitPython_Bundle\n",
    "- https://circuitpython.org/libraries"
   ]
  },
  {
   "cell_type": "code",
   "execution_count": 19,
   "id": "86fb6d9b-be78-431b-940d-3ad0de9c7b0a",
   "metadata": {},
   "outputs": [
    {
     "name": "stdout",
     "output_type": "stream",
     "text": [
      "['adafruit_hid', 'adafruit_requests.mpy', 'adafruit_connection_manager.mpy']\n"
     ]
    }
   ],
   "source": [
    "import os ; print(os.listdir(\"lib\"))"
   ]
  },
  {
   "cell_type": "code",
   "execution_count": 20,
   "id": "f77cb055-177c-4428-b70d-02b739a29b0e",
   "metadata": {},
   "outputs": [],
   "source": [
    "import socketpool\n",
    "#help(socketpool)\n",
    "#help(socketpool.Socket)\n",
    "#help(socketpool.SocketPool)"
   ]
  },
  {
   "cell_type": "code",
   "execution_count": 21,
   "id": "f927fbb8-ab1b-489c-a1b5-48d8b89f7e1b",
   "metadata": {},
   "outputs": [
    {
     "name": "stdout",
     "output_type": "stream",
     "text": [
      "object <module 'ssl'> is of type module\n",
      "  __name__ -- ssl\n",
      "  create_default_context -- <function>\n",
      "  SSLContext -- <class 'SSLContext'>\n"
     ]
    }
   ],
   "source": [
    "import ssl\n",
    "help(ssl)"
   ]
  },
  {
   "cell_type": "code",
   "execution_count": 22,
   "id": "b45ab524-b3d9-404b-a66b-e21bd2bb6b08",
   "metadata": {},
   "outputs": [],
   "source": [
    "pool = socketpool.SocketPool(wifi.radio)"
   ]
  },
  {
   "cell_type": "code",
   "execution_count": 23,
   "id": "1d1d2e3f-65d6-47f2-ac08-7176f599325c",
   "metadata": {},
   "outputs": [],
   "source": [
    "import adafruit_requests"
   ]
  },
  {
   "cell_type": "code",
   "execution_count": 24,
   "id": "50380e40-bf13-447f-8535-4c55a0caa579",
   "metadata": {},
   "outputs": [],
   "source": [
    "request = adafruit_requests.Session(pool, ssl.create_default_context())"
   ]
  },
  {
   "cell_type": "code",
   "execution_count": 25,
   "id": "928ae9a5-d6f1-4d49-bd1c-e72ae72ba1ea",
   "metadata": {},
   "outputs": [
    {
     "name": "stdout",
     "output_type": "stream",
     "text": [
      "200\n",
      "{\n",
      "  \"args\": {}, \n",
      "  \"headers\": {\n",
      "    \"Host\": \"httpbin.org\", \n",
      "    \"User-Agent\": \"Adafruit CircuitPython\", \n",
      "    \"X-Amzn-Trace-Id\": \"Root=1-661c48ea-15bf367c63c036027c765790\"\n",
      "  }, \n",
      "  \"origin\": \"31.4.149.231\", \n",
      "  \"url\": \"http://httpbin.org/get\"\n",
      "}\n",
      "\n"
     ]
    }
   ],
   "source": [
    "response = request.get(\"http://httpbin.org/get\")\n",
    "print(response.status_code)\n",
    "print(response.text)"
   ]
  },
  {
   "cell_type": "markdown",
   "id": "07af730f-35a5-4d49-b820-740cc533f3f6",
   "metadata": {},
   "source": [
    "<br><br><br><hr>\n",
    "### usb_hid Teclado\n",
    "https://learn.adafruit.com/circuitpython-essentials/circuitpython-hid-keyboard-and-mouse   \n",
    "https://learn.adafruit.com/adafruit-qt-py-esp32-s2/troubleshooting   \n",
    "\n",
    "- Librerias: https://github.com/adafruit/Adafruit_CircuitPython_Bundle\n",
    "- https://circuitpython.org/libraries"
   ]
  },
  {
   "cell_type": "code",
   "execution_count": 26,
   "id": "e62c291a-4cc4-43d2-b6b1-eb63c15f7f30",
   "metadata": {},
   "outputs": [
    {
     "name": "stdout",
     "output_type": "stream",
     "text": [
      "import usb_cdc, usb_hid, storage, supervisor\n",
      "\n",
      "storage.disable_usb_drive() #desabilito storaje para liberar endpoints\n",
      "\n",
      "supervisor.set_usb_identification(\"Stucom_2024\",\"Hacking_USB\",0x2E8A,0x0005)\n",
      "\n",
      "#Ojo si habilitas un segundo CDC te comes todos los endpoints\n",
      "#usb_cdc.enable(console=True, data=True)    # Enable console and data\n",
      "\n",
      "#usb_hid.enable((usb_hid.Device.KEYBOARD,usb_hid.Device.MOUSE,USB_hid.Device.CONSUMER_CONTROL))\n",
      "usb_hid.enable((usb_hid.Device.KEYBOARD,usb_hid.Device.MOUSE))\n",
      "#usb_hid.enable((usb_hid.Device.KEYBOARD,))\n",
      "\n",
      "print(\"fin boot.py\")\n",
      "\n"
     ]
    }
   ],
   "source": [
    "# el contenido de boot se ejecuta en el arranque.\n",
    "# Aqui se cargan funciones como teclado raton disco\n",
    "print(open('boot.py', 'r').read())\n",
    "# en boot.py deberias tener una linea que ponga\n",
    "# usb_hid.enable((usb_hid.Device.KEYBOARD,usb_hid.Device.MOUSE))"
   ]
  },
  {
   "cell_type": "markdown",
   "id": "faad39e3-7e63-4a9d-b041-ff33d087415a",
   "metadata": {},
   "source": [
    "____\n",
    "\n",
    "## Personalizar parametros USB en boot.PY\n",
    "___\n",
    "\n",
    "```\n",
    "supervisor.set_usb_identification(\"Stucom_2024\",\"Hacking_USB\",0x2E8A,0x0005)\\n')\n",
    "```\n",
    "\n",
    "___\n",
    "\n",
    "```\n",
    "Listado VIDs Uso Libre\n",
    "Table if IDs for discrimination by textual name:\n",
    "\n",
    "PID dec (hex) | VID dec (hex) | Description of use\n",
    "==============+===============+============================================\n",
    "1500 (0x05dc) | 5824 (0x16c0) | For Vendor Class devices with libusb\n",
    "--------------+---------------+--------------------------------------------\n",
    "1503 (0x05df) | 5824 (0x16c0) | For generic HID class devices (which are\n",
    "              |               | NOT mice, keyboards or joysticks)\n",
    "--------------+---------------+--------------------------------------------\n",
    "1505 (0x05e1) | 5824 (0x16c0) | For CDC-ACM class devices (modems)\n",
    "--------------+---------------+--------------------------------------------\n",
    "1508 (0x05e4) | 5824 (0x16c0) | For MIDI class devices\n",
    "--------------+---------------+--------------------------------------------\n",
    "```\n",
    "\n"
   ]
  },
  {
   "cell_type": "markdown",
   "id": "711c92fc-6fb4-4e13-9a1b-9c3b9cadc964",
   "metadata": {},
   "source": [
    "___\n",
    "\n",
    "## Pruebas Teclado"
   ]
  },
  {
   "cell_type": "code",
   "execution_count": 27,
   "id": "00e0f7d9-d08b-4119-b27f-6eee1ddd9639",
   "metadata": {},
   "outputs": [],
   "source": [
    "import usb_hid\n",
    "from adafruit_hid.keyboard import Keyboard\n",
    "from adafruit_hid.keycode import Keycode\n",
    "\n",
    "kbd = Keyboard(usb_hid.devices)"
   ]
  },
  {
   "cell_type": "code",
   "execution_count": 28,
   "id": "7220f1ba-1021-4f09-a6fa-cc27816d5e7a",
   "metadata": {},
   "outputs": [],
   "source": [
    "#help(Keycode)"
   ]
  },
  {
   "cell_type": "code",
   "execution_count": 29,
   "id": "e70270f2-297a-428a-984c-7f4f2a89cfd8",
   "metadata": {},
   "outputs": [
    {
     "name": "stdout",
     "output_type": "stream",
     "text": [
      "object <Keyboard object at 0x3f804500> is of type Keyboard\n",
      "  __module__ -- adafruit_hid.keyboard\n",
      "  LED_NUM_LOCK -- 1\n",
      "  LED_CAPS_LOCK -- 2\n",
      "  LED_SCROLL_LOCK -- 4\n",
      "  _add_keycode_to_report -- <function _add_keycode_to_report at 0x0x3f8065d0>\n",
      "  __qualname__ -- Keyboard\n",
      "  LED_COMPOSE -- 8\n",
      "  led_status -- <property>\n",
      "  led_on -- <function led_on at 0x0x3f806a20>\n",
      "  press -- <function press at 0x0x3f805fe0>\n",
      "  __init__ -- <function __init__ at 0x0x3f805ef0>\n",
      "  release_all -- <function release_all at 0x0x3f806390>\n",
      "  _remove_keycode_from_report -- <function _remove_keycode_from_report at 0x0x3f8065e0>\n",
      "  release -- <function release at 0x0x3f806040>\n",
      "  send -- <function send at 0x0x3f806590>\n"
     ]
    }
   ],
   "source": [
    "help(kbd)"
   ]
  },
  {
   "cell_type": "code",
   "execution_count": 30,
   "id": "15957bca-1e3a-4402-8090-b1800b812a10",
   "metadata": {},
   "outputs": [],
   "source": [
    "#Envio una pulsacion de teeclado\n",
    "kbd.send(Keycode.SHIFT, Keycode.A)\n",
    "kbd.send(Keycode.B)"
   ]
  },
  {
   "cell_type": "raw",
   "id": "1a93fec8-a04d-4aff-863c-11cd4929795d",
   "metadata": {},
   "source": [
    "# Comprobacion: \n",
    "# en una terminal ejecuto usbhid-dump -e stream (deberia poder ver las pulsaciones)\n",
    "#¿¿¿https://learn.adafruit.com/adafruit-qt-py-esp32-s2/troubleshooting\n",
    "#\n",
    "# usbhid-dump -e stream\n",
    "Starting dumping interrupt transfer stream with 1 minute timeout.\n",
    "\n",
    "001:009:002:STREAM  01 02 00 04 00 00 00 00 00\n",
    "001:009:002:STREAM  01 00 00 00 00 00 00 00 00\n",
    "001:009:002:STREAM  01 00 00 05 00 00 00 00 00\n",
    "001:009:002:STREAM  01 00 00 00 00 00 00 00 00"
   ]
  },
  {
   "cell_type": "code",
   "execution_count": 31,
   "id": "b5001b91-174d-4f1c-bb8c-eb16b8041e43",
   "metadata": {},
   "outputs": [],
   "source": [
    "# Envio de varias teclas\n",
    "import usb_hid\n",
    "from adafruit_hid.keyboard import Keyboard\n",
    "from adafruit_hid.keyboard_layout_us import KeyboardLayoutUS\n",
    "\n",
    "kbd = Keyboard(usb_hid.devices)\n",
    "layout = KeyboardLayoutUS(kbd)"
   ]
  },
  {
   "cell_type": "code",
   "execution_count": 32,
   "id": "aaab1f87-d471-4173-9383-5f1ff17ae8be",
   "metadata": {},
   "outputs": [],
   "source": [
    "# Envio un texto. (a lo ruberducky)\n",
    "layout.write('cmd\\n')"
   ]
  },
  {
   "cell_type": "code",
   "execution_count": 33,
   "id": "9e1e3294-99d8-48b1-b967-d853b4c08818",
   "metadata": {},
   "outputs": [
    {
     "name": "stdout",
     "output_type": "stream",
     "text": [
      "1387363\n",
      "usb True\n",
      "ser True False\n",
      "supervisor.RunReason.REPL_RELOAD\n",
      "supervisor.SafeModeReason.NONE\n"
     ]
    }
   ],
   "source": [
    "#Informacion conexion USB\n",
    "import supervisor\n",
    "print(supervisor.ticks_ms())\n",
    "print(\"usb\",supervisor.runtime.usb_connected)\n",
    "print(\"ser\",supervisor.runtime.usb_connected,supervisor.runtime.serial_bytes_available)\n",
    "print(supervisor.runtime.run_reason)\n",
    "print(supervisor.runtime.safe_mode_reason)\n",
    "#supervisor.reload()"
   ]
  },
  {
   "cell_type": "code",
   "execution_count": null,
   "id": "9aac8c7b-2075-489d-ae89-8daf001db6be",
   "metadata": {},
   "outputs": [],
   "source": [
    "#reinicia la maq si es necesario\n",
    "#import microcontroller; microcontroller.reset()"
   ]
  },
  {
   "cell_type": "code",
   "execution_count": null,
   "id": "99dd3cbb-bf74-45fc-a052-28f18e221eb8",
   "metadata": {},
   "outputs": [],
   "source": [
    "#!dmesg |tail -18"
   ]
  },
  {
   "cell_type": "code",
   "execution_count": null,
   "id": "ac9bec04-02bb-4e79-839c-4f1d33a2c99c",
   "metadata": {},
   "outputs": [],
   "source": []
  }
 ],
 "metadata": {
  "kernelspec": {
   "display_name": "CircuitPython",
   "language": "python",
   "name": "circuitpython"
  },
  "language_info": {
   "codemirror_mode": {
    "name": "python",
    "version": 3
   },
   "file_extension": ".py",
   "mimetype": "text/x-python",
   "name": "python",
   "pygments_lexer": "python3",
   "version": "3"
  }
 },
 "nbformat": 4,
 "nbformat_minor": 5
}
